{
 "cells": [
  {
   "cell_type": "code",
   "execution_count": 1,
   "metadata": {
    "colab": {
     "base_uri": "https://localhost:8080/",
     "height": 34
    },
    "colab_type": "code",
    "id": "nCQjvJO0mrq3",
    "outputId": "ba1037f4-ed02-4ecf-cb98-25a04d69943a"
   },
   "outputs": [],
   "source": [
    "import keras.backend as K\n",
    "import numpy as np\n",
    "\n",
    "\n",
    "def get_activations(model, inputs, print_shape_only=False, layer_name=None):\n",
    "    # Documentation is available online on Github at the address below.\n",
    "    # From: https://github.com/philipperemy/keras-visualize-activations\n",
    "    print('----- activations -----')\n",
    "    activations = []\n",
    "    inp = model.input\n",
    "    if layer_name is None:\n",
    "        outputs = [layer.output for layer in model.layers]\n",
    "    else:\n",
    "        outputs = [layer.output for layer in model.layers if layer.name == layer_name]  # all layer outputs\n",
    "    funcs = [K.function([inp] + [K.learning_phase()], [out]) for out in outputs]  # evaluation functions\n",
    "    layer_outputs = [func([inputs, 1.])[0] for func in funcs]\n",
    "    for layer_activations in layer_outputs:\n",
    "        activations.append(layer_activations)\n",
    "        if print_shape_only:\n",
    "            print(layer_activations.shape)\n",
    "        else:\n",
    "            print('shape为',layer_activations.shape)\n",
    "            print(layer_activations)\n",
    "    return activations\n",
    "\n",
    "\n",
    "def get_data(n, input_dim, attention_column=1):\n",
    "    \"\"\"\n",
    "    Data generation. x is purely random except that it's first value equals the target y.\n",
    "    In practice, the network should learn that the target = x[attention_column].\n",
    "    Therefore, most of its attention should be focused on the value addressed by attention_column.\n",
    "    :param n: the number of samples to retrieve.\n",
    "    :param input_dim: the number of dimensions of each element in the series.\n",
    "    :param attention_column: the column linked to the target. Everything else is purely random.\n",
    "    :return: x: model inputs, y: model targets\n",
    "    \"\"\"\n",
    "    x = np.random.standard_normal(size=(n, input_dim))\n",
    "    y = np.random.randint(low=0, high=2, size=(n, 1))\n",
    "    x[:, attention_column] = y[:, 0]\n",
    "    return x, y\n",
    "\n",
    "\n",
    "def get_data_recurrent(n, time_steps, input_dim, attention_column=10):\n",
    "    \"\"\"\n",
    "    Data generation. x is purely random except that it's first value equals the target y.\n",
    "    In practice, the network    should learn that the target = x[attention_column].\n",
    "    Therefore, most of its attention should be focused on the value addressed by attention_column.\n",
    "    :param n: the number of samples to retrieve.\n",
    "    :param time_steps: the number of time steps of your series.\n",
    "    :param input_dim: the number of dimensions of each element in the series.\n",
    "    :param attention_column: the column linked to the target. Everything else is purely random.\n",
    "    :return: x: model inputs, y: model targets\n",
    "    \"\"\"\n",
    "    x = np.random.standard_normal(size=(n, time_steps, input_dim))\n",
    "    y = np.random.randint(low=0, high=2, size=(n, 1))\n",
    "    x[:, attention_column, :] = np.tile(y[:], (1, input_dim))\n",
    "    return x, y\n",
    "\n",
    "\n",
    "def get_data_recurrent2(n, time_steps, input_dim, attention_dim=5):\n",
    "    \"\"\"\n",
    "    Suppose input_dim = 10  time_steps = 6\n",
    "    formed one  x 6 x 10 The data of each step 6 dimension is the same as y\n",
    "    \"\"\"\n",
    "    x = np.random.standard_normal(size=(n, time_steps, input_dim))\n",
    "    y = np.random.randint(low=0, high=2, size=(n, 1))\n",
    "    x[:,:,attention_dim] =  np.tile(y[:], (1, time_steps))\n",
    "\n",
    "\n",
    "    return x,y"
   ]
  },
  {
   "cell_type": "code",
   "execution_count": 37,
   "metadata": {
    "colab": {},
    "colab_type": "code",
    "id": "dn1pNTYBnY1q"
   },
   "outputs": [],
   "source": [
    "from keras.layers import Input, Dense, LSTM, merge ,Conv1D,Dropout,Bidirectional,Multiply\n",
    "from keras.models import Model\n",
    "\n",
    "#from attention_utils import get_activations\n",
    "from keras.layers import merge\n",
    "from keras.layers import Multiply\n",
    "from keras.layers.core import *\n",
    "from keras.layers.recurrent import LSTM\n",
    "from keras.models import *\n",
    "\n",
    "import  pandas as pd\n",
    "import  numpy as np\n",
    "\n",
    "SINGLE_ATTENTION_VECTOR = False\n",
    "def attention_3d_block(inputs):\n",
    "    # inputs.shape = (batch_size, time_steps, input_dim)\n",
    "    input_dim = int(inputs.shape[2])\n",
    "    a = inputs\n",
    "    #a = Permute((2, 1))(inputs)\n",
    "    #a = Reshape((input_dim, TIME_STEPS))(a) # this line is not useful. It's just to know which dimension is what.\n",
    "    a = Dense(input_dim, activation='softmax')(a)\n",
    "    if SINGLE_ATTENTION_VECTOR:\n",
    "        a = Lambda(lambda x: K.mean(x, axis=1), name='dim_reduction')(a)\n",
    "        a = RepeatVector(input_dim)(a)\n",
    "    a_probs = Permute((1, 2), name='attention_vec')(a)\n",
    "\n",
    "    #output_attention_mul = merge([inputs, a_probs], name='attention_mul', mode='mul')\n",
    "    output_attention_mul = Multiply()([inputs, a_probs])\n",
    "    return output_attention_mul\n",
    "\n",
    "# Another way of writing the attention mechanism is suitable for the use of the above error source:https://blog.csdn.net/uhauha2929/article/details/80733255\n",
    "def attention_3d_block2(inputs, single_attention_vector=False):\n",
    "    # If the upper layer is LSTM, you need return_sequences=True\n",
    "    # inputs.shape = (batch_size, time_steps, input_dim)\n",
    "    time_steps = K.int_shape(inputs)[1]\n",
    "    input_dim = K.int_shape(inputs)[2]\n",
    "    a = Permute((2, 1))(inputs)\n",
    "    a = Dense(time_steps, activation='softmax')(a)\n",
    "    if single_attention_vector:\n",
    "        a = Lambda(lambda x: K.mean(x, axis=1))(a)\n",
    "        a = RepeatVector(input_dim)(a)\n",
    "\n",
    "    a_probs = Permute((2, 1))(a)\n",
    "    # Multiplied by the attention weight, but there is no summation, it seems to have little effect\n",
    "    # If you classify tasks, you can do Flatten expansion\n",
    "    # element-wise\n",
    "    output_attention_mul = Multiply()([inputs, a_probs])\n",
    "    return output_attention_mul\n",
    "\n",
    "\n",
    "\n",
    "def create_dataset(dataset, look_back):\n",
    "    '''\n",
    "    Processing the data\n",
    "    '''\n",
    "    dataX, dataY = [], []\n",
    "    for i in range(len(dataset)-look_back-1):\n",
    "        a = dataset[i:(i+look_back),:]\n",
    "        dataX.append(a)\n",
    "        dataY.append(dataset[i + look_back,:])\n",
    "    TrainX = np.array(dataX)\n",
    "    Train_Y = np.array(dataY)\n",
    "\n",
    "    return TrainX, Train_Y\n",
    "\n",
    "# Multidimensional normalization returns data and maximum and minimum values\n",
    "def NormalizeMult(data):\n",
    "    #normalize Used for denormalization\n",
    "    data = np.array(data)\n",
    "    normalize = np.arange(2*data.shape[1],dtype='float64')\n",
    "\n",
    "    normalize = normalize.reshape(data.shape[1],2)\n",
    "    print(normalize.shape)\n",
    "    for i in range(0,data.shape[1]):\n",
    "        #Column i\n",
    "        list = data[:,i]\n",
    "        listlow,listhigh =  np.percentile(list, [0, 100])\n",
    "        # print(i)\n",
    "        normalize[i,0] = listlow\n",
    "        normalize[i,1] = listhigh\n",
    "        delta = listhigh - listlow\n",
    "        if delta != 0:\n",
    "            #Row j\n",
    "            for j in range(0,data.shape[0]):\n",
    "                data[j,i]  =  (data[j,i] - listlow)/delta\n",
    "    #np.save(\"./normalize.npy\",normalize)\n",
    "    return  data,normalize\n",
    "\n",
    "# Multidimensional denormalization\n",
    "def FNormalizeMult(data,normalize):\n",
    "    data = np.array(data)\n",
    "    for i in  range(0,data.shape[1]):\n",
    "        listlow =  normalize[i,0]\n",
    "        listhigh = normalize[i,1]\n",
    "        delta = listhigh - listlow\n",
    "        if delta != 0:\n",
    "            #Row j\n",
    "            for j in range(0,data.shape[0]):\n",
    "                data[j,i]  =  data[j,i]*delta + listlow\n",
    "\n",
    "    return data\n",
    "\n",
    "\n",
    "def attention_model():\n",
    "    inputs = Input(shape=(TIME_STEPS, INPUT_DIMS))\n",
    "\n",
    "    x = Conv1D(filters = 64, kernel_size = 1, activation = 'relu')(inputs)  #, padding = 'same'\n",
    "    x = Dropout(0.3)(x)\n",
    "\n",
    "    #lstm_out = Bidirectional(LSTM(lstm_units, activation='relu'), name='bilstm')(x)\n",
    "    #For GPU you can use CuDNNLSTM\n",
    "    lstm_out = Bidirectional(LSTM(lstm_units, return_sequences=True))(x)\n",
    "    lstm_out = Dropout(0.3)(lstm_out)\n",
    "    attention_mul = attention_3d_block(lstm_out)\n",
    "    attention_mul = Flatten()(attention_mul)\n",
    "\n",
    "    #output = Dense(1, activation='sigmoid')(attention_mul)\n",
    "    output = Dense(1, activation='linear')(attention_mul)\n",
    "    model = Model(inputs=[inputs], outputs=output)\n",
    "    return model"
   ]
  },
  {
   "cell_type": "code",
   "execution_count": 9,
   "metadata": {
    "colab": {
     "base_uri": "https://localhost:8080/",
     "height": 289
    },
    "colab_type": "code",
    "id": "TVqZiWxFpSLd",
    "outputId": "4fef392d-d25f-4455-a012-79957cfd716b"
   },
   "outputs": [
    {
     "name": "stdout",
     "output_type": "stream",
     "text": [
      "--2020-06-29 06:02:18--  https://github.com/PatientEz/CNN-BiLSTM-Attention-Time-Series-Prediction_Keras/raw/master/pollution.csv\n",
      "Resolving github.com (github.com)... 140.82.112.4\n",
      "Connecting to github.com (github.com)|140.82.112.4|:443... connected.\n",
      "HTTP request sent, awaiting response... 302 Found\n",
      "Location: https://raw.githubusercontent.com/PatientEz/CNN-BiLSTM-Attention-Time-Series-Prediction_Keras/master/pollution.csv [following]\n",
      "--2020-06-29 06:02:18--  https://raw.githubusercontent.com/PatientEz/CNN-BiLSTM-Attention-Time-Series-Prediction_Keras/master/pollution.csv\n",
      "Resolving raw.githubusercontent.com (raw.githubusercontent.com)... 151.101.0.133, 151.101.64.133, 151.101.128.133, ...\n",
      "Connecting to raw.githubusercontent.com (raw.githubusercontent.com)|151.101.0.133|:443... connected.\n",
      "HTTP request sent, awaiting response... 200 OK\n",
      "Length: 2301672 (2.2M) [text/plain]\n",
      "Saving to: ‘pollution.csv’\n",
      "\n",
      "\r",
      "pollution.csv         0%[                    ]       0  --.-KB/s               \r",
      "pollution.csv        88%[================>   ]   1.94M  9.68MB/s               \r",
      "pollution.csv       100%[===================>]   2.19M  10.1MB/s    in 0.2s    \n",
      "\n",
      "2020-06-29 06:02:19 (10.1 MB/s) - ‘pollution.csv’ saved [2301672/2301672]\n",
      "\n"
     ]
    }
   ],
   "source": [
    "!rm -rf pollution.csv\n",
    "!wget https://github.com/PatientEz/CNN-BiLSTM-Attention-Time-Series-Prediction_Keras/raw/master/pollution.csv"
   ]
  },
  {
   "cell_type": "code",
   "execution_count": 19,
   "metadata": {
    "colab": {
     "base_uri": "https://localhost:8080/",
     "height": 204
    },
    "colab_type": "code",
    "id": "T-69PKu_pc5H",
    "outputId": "3867e299-e5fe-44ed-f162-ba2d5e8053aa"
   },
   "outputs": [
    {
     "data": {
      "text/html": [
       "<div>\n",
       "<style scoped>\n",
       "    .dataframe tbody tr th:only-of-type {\n",
       "        vertical-align: middle;\n",
       "    }\n",
       "\n",
       "    .dataframe tbody tr th {\n",
       "        vertical-align: top;\n",
       "    }\n",
       "\n",
       "    .dataframe thead th {\n",
       "        text-align: right;\n",
       "    }\n",
       "</style>\n",
       "<table border=\"1\" class=\"dataframe\">\n",
       "  <thead>\n",
       "    <tr style=\"text-align: right;\">\n",
       "      <th></th>\n",
       "      <th>date</th>\n",
       "      <th>pollution</th>\n",
       "      <th>dew</th>\n",
       "      <th>temp</th>\n",
       "      <th>press</th>\n",
       "      <th>wnd_dir</th>\n",
       "      <th>wnd_spd</th>\n",
       "      <th>snow</th>\n",
       "      <th>rain</th>\n",
       "    </tr>\n",
       "  </thead>\n",
       "  <tbody>\n",
       "    <tr>\n",
       "      <th>0</th>\n",
       "      <td>2010-01-02 00:00:00</td>\n",
       "      <td>129.0</td>\n",
       "      <td>-16</td>\n",
       "      <td>-4.0</td>\n",
       "      <td>1020.0</td>\n",
       "      <td>SE</td>\n",
       "      <td>1.79</td>\n",
       "      <td>0</td>\n",
       "      <td>0</td>\n",
       "    </tr>\n",
       "    <tr>\n",
       "      <th>1</th>\n",
       "      <td>2010-01-02 01:00:00</td>\n",
       "      <td>148.0</td>\n",
       "      <td>-15</td>\n",
       "      <td>-4.0</td>\n",
       "      <td>1020.0</td>\n",
       "      <td>SE</td>\n",
       "      <td>2.68</td>\n",
       "      <td>0</td>\n",
       "      <td>0</td>\n",
       "    </tr>\n",
       "    <tr>\n",
       "      <th>2</th>\n",
       "      <td>2010-01-02 02:00:00</td>\n",
       "      <td>159.0</td>\n",
       "      <td>-11</td>\n",
       "      <td>-5.0</td>\n",
       "      <td>1021.0</td>\n",
       "      <td>SE</td>\n",
       "      <td>3.57</td>\n",
       "      <td>0</td>\n",
       "      <td>0</td>\n",
       "    </tr>\n",
       "    <tr>\n",
       "      <th>3</th>\n",
       "      <td>2010-01-02 03:00:00</td>\n",
       "      <td>181.0</td>\n",
       "      <td>-7</td>\n",
       "      <td>-5.0</td>\n",
       "      <td>1022.0</td>\n",
       "      <td>SE</td>\n",
       "      <td>5.36</td>\n",
       "      <td>1</td>\n",
       "      <td>0</td>\n",
       "    </tr>\n",
       "    <tr>\n",
       "      <th>4</th>\n",
       "      <td>2010-01-02 04:00:00</td>\n",
       "      <td>138.0</td>\n",
       "      <td>-7</td>\n",
       "      <td>-5.0</td>\n",
       "      <td>1022.0</td>\n",
       "      <td>SE</td>\n",
       "      <td>6.25</td>\n",
       "      <td>2</td>\n",
       "      <td>0</td>\n",
       "    </tr>\n",
       "  </tbody>\n",
       "</table>\n",
       "</div>"
      ],
      "text/plain": [
       "                  date  pollution  dew  temp  ...  wnd_dir wnd_spd  snow  rain\n",
       "0  2010-01-02 00:00:00      129.0  -16  -4.0  ...       SE    1.79     0     0\n",
       "1  2010-01-02 01:00:00      148.0  -15  -4.0  ...       SE    2.68     0     0\n",
       "2  2010-01-02 02:00:00      159.0  -11  -5.0  ...       SE    3.57     0     0\n",
       "3  2010-01-02 03:00:00      181.0   -7  -5.0  ...       SE    5.36     1     0\n",
       "4  2010-01-02 04:00:00      138.0   -7  -5.0  ...       SE    6.25     2     0\n",
       "\n",
       "[5 rows x 9 columns]"
      ]
     },
     "execution_count": 19,
     "metadata": {
      "tags": []
     },
     "output_type": "execute_result"
    }
   ],
   "source": [
    "data = pd.read_csv(\"./pollution.csv\")\n",
    "data.head()"
   ]
  },
  {
   "cell_type": "code",
   "execution_count": 20,
   "metadata": {
    "colab": {
     "base_uri": "https://localhost:8080/",
     "height": 51
    },
    "colab_type": "code",
    "id": "Z973piRoppOv",
    "outputId": "4ba98d63-4117-4a0b-d0e3-7c1ed531e57a"
   },
   "outputs": [
    {
     "name": "stdout",
     "output_type": "stream",
     "text": [
      "Index(['pollution', 'dew', 'temp', 'press', 'wnd_spd', 'snow', 'rain'], dtype='object')\n",
      "(43800, 7)\n"
     ]
    }
   ],
   "source": [
    "data = data.drop(['date','wnd_dir'], axis = 1)\n",
    "print(data.columns)\n",
    "print(data.shape)"
   ]
  },
  {
   "cell_type": "code",
   "execution_count": 21,
   "metadata": {
    "colab": {
     "base_uri": "https://localhost:8080/",
     "height": 918
    },
    "colab_type": "code",
    "id": "MW5lZVvorFI4",
    "outputId": "a85798ff-a7e3-4863-a152-2719bb556e32"
   },
   "outputs": [
    {
     "name": "stdout",
     "output_type": "stream",
     "text": [
      "(7, 2)\n",
      "(43779, 20, 7) (43779, 1)\n",
      "Model: \"model_1\"\n",
      "__________________________________________________________________________________________________\n",
      "Layer (type)                    Output Shape         Param #     Connected to                     \n",
      "==================================================================================================\n",
      "input_4 (InputLayer)            (None, 20, 7)        0                                            \n",
      "__________________________________________________________________________________________________\n",
      "conv1d_4 (Conv1D)               (None, 20, 64)       512         input_4[0][0]                    \n",
      "__________________________________________________________________________________________________\n",
      "dropout_7 (Dropout)             (None, 20, 64)       0           conv1d_4[0][0]                   \n",
      "__________________________________________________________________________________________________\n",
      "bidirectional_4 (Bidirectional) (None, 20, 128)      66048       dropout_7[0][0]                  \n",
      "__________________________________________________________________________________________________\n",
      "dropout_8 (Dropout)             (None, 20, 128)      0           bidirectional_4[0][0]            \n",
      "__________________________________________________________________________________________________\n",
      "dense_4 (Dense)                 (None, 20, 128)      16512       dropout_8[0][0]                  \n",
      "__________________________________________________________________________________________________\n",
      "attention_vec (Permute)         (None, 20, 128)      0           dense_4[0][0]                    \n",
      "__________________________________________________________________________________________________\n",
      "multiply_1 (Multiply)           (None, 20, 128)      0           dropout_8[0][0]                  \n",
      "                                                                 attention_vec[0][0]              \n",
      "__________________________________________________________________________________________________\n",
      "flatten_1 (Flatten)             (None, 2560)         0           multiply_1[0][0]                 \n",
      "__________________________________________________________________________________________________\n",
      "dense_5 (Dense)                 (None, 1)            2561        flatten_1[0][0]                  \n",
      "==================================================================================================\n",
      "Total params: 85,633\n",
      "Trainable params: 85,633\n",
      "Non-trainable params: 0\n",
      "__________________________________________________________________________________________________\n",
      "Train on 39401 samples, validate on 4378 samples\n",
      "Epoch 1/10\n",
      "39401/39401 [==============================] - 30s 758us/step - loss: 0.0149 - val_loss: 0.0014\n",
      "Epoch 2/10\n",
      "39401/39401 [==============================] - 29s 727us/step - loss: 0.0018 - val_loss: 9.7593e-04\n",
      "Epoch 3/10\n",
      "39401/39401 [==============================] - 29s 728us/step - loss: 0.0014 - val_loss: 8.2579e-04\n",
      "Epoch 4/10\n",
      "39401/39401 [==============================] - 29s 731us/step - loss: 0.0013 - val_loss: 8.7256e-04\n",
      "Epoch 5/10\n",
      "39401/39401 [==============================] - 29s 748us/step - loss: 0.0011 - val_loss: 7.0870e-04\n",
      "Epoch 6/10\n",
      "39401/39401 [==============================] - 30s 756us/step - loss: 0.0010 - val_loss: 6.2551e-04\n",
      "Epoch 7/10\n",
      "39401/39401 [==============================] - 30s 758us/step - loss: 9.8373e-04 - val_loss: 8.7586e-04\n",
      "Epoch 8/10\n",
      "39401/39401 [==============================] - 30s 758us/step - loss: 9.4949e-04 - val_loss: 7.6598e-04\n",
      "Epoch 9/10\n",
      "39401/39401 [==============================] - 30s 758us/step - loss: 9.2990e-04 - val_loss: 7.4004e-04\n",
      "Epoch 10/10\n",
      "39401/39401 [==============================] - 30s 756us/step - loss: 8.9585e-04 - val_loss: 7.2929e-04\n"
     ]
    },
    {
     "data": {
      "text/plain": [
       "<keras.callbacks.callbacks.History at 0x7fd25f12eef0>"
      ]
     },
     "execution_count": 21,
     "metadata": {
      "tags": []
     },
     "output_type": "execute_result"
    }
   ],
   "source": [
    "INPUT_DIMS = 7\n",
    "TIME_STEPS = 20\n",
    "lstm_units = 64\n",
    "\n",
    "#Normalized\n",
    "data,normalize = NormalizeMult(data)\n",
    "pollution_data = data[:,0].reshape(len(data),1)\n",
    "\n",
    "train_X, _ = create_dataset(data,TIME_STEPS)\n",
    "_ , train_Y = create_dataset(pollution_data,TIME_STEPS)\n",
    "\n",
    "print(train_X.shape,train_Y.shape)\n",
    "\n",
    "m = attention_model()\n",
    "m.summary()\n",
    "m.compile(optimizer='adam', loss='mse')\n",
    "m.fit([train_X], train_Y, epochs=10, batch_size=64, validation_split=0.1)\n",
    "#m.save(\"./model.h5\")\n",
    "#np.save(\"normalize.npy\",normalize)"
   ]
  },
  {
   "cell_type": "code",
   "execution_count": 69,
   "metadata": {
    "colab": {
     "base_uri": "https://localhost:8080/",
     "height": 51
    },
    "colab_type": "code",
    "id": "vjwlHDLjrPll",
    "outputId": "301a9137-f811-4247-d69c-f5d5b9658314"
   },
   "outputs": [
    {
     "name": "stdout",
     "output_type": "stream",
     "text": [
      "len(train): 35040\n",
      "len(test): 8760\n"
     ]
    }
   ],
   "source": [
    "from sklearn.model_selection import train_test_split\n",
    "df = pd.read_csv(\"./pollution.csv\")\n",
    "df = df.drop(['date','wnd_dir'], axis = 1)\n",
    "train_size = int(len(df)*0.8)\n",
    "train = df.iloc[:train_size,:]\n",
    "test = df.iloc[train_size:,:]\n",
    "#train, test = train_test_split(df, test_size=0.1)\n",
    "print(\"len(train):\",len(train))\n",
    "print(\"len(test):\",len(test))"
   ]
  },
  {
   "cell_type": "code",
   "execution_count": 63,
   "metadata": {
    "colab": {},
    "colab_type": "code",
    "id": "szdBNQSAzKLL"
   },
   "outputs": [],
   "source": [
    "import keras.backend as K\n",
    "def r2_keras(y_true, y_pred):\n",
    "    \"\"\"Coefficient of Determination \n",
    "    \"\"\"\n",
    "    SS_res =  K.sum(K.square( y_true - y_pred ))\n",
    "    SS_tot = K.sum(K.square( y_true - K.mean(y_true) ) )\n",
    "    return ( 1 - SS_res/(SS_tot + K.epsilon()) )"
   ]
  },
  {
   "cell_type": "code",
   "execution_count": 64,
   "metadata": {
    "colab": {
     "base_uri": "https://localhost:8080/",
     "height": 34
    },
    "colab_type": "code",
    "id": "47ZtCVJV4SHa",
    "outputId": "ffa817bb-efa1-4c71-fa20-dafc287a81e5"
   },
   "outputs": [
    {
     "name": "stdout",
     "output_type": "stream",
     "text": [
      "rm: cannot remove 'model.h5': No such file or directory\n"
     ]
    }
   ],
   "source": [
    "%rm model.h5"
   ]
  },
  {
   "cell_type": "code",
   "execution_count": 71,
   "metadata": {
    "colab": {
     "base_uri": "https://localhost:8080/",
     "height": 901
    },
    "colab_type": "code",
    "id": "7ZXNNnEMwIG5",
    "outputId": "65095f4c-b287-453b-f5be-e02b3019687f"
   },
   "outputs": [
    {
     "name": "stdout",
     "output_type": "stream",
     "text": [
      "(7, 2)\n",
      "(35019, 20, 7) (35019, 1)\n",
      "Model: \"model_14\"\n",
      "__________________________________________________________________________________________________\n",
      "Layer (type)                    Output Shape         Param #     Connected to                     \n",
      "==================================================================================================\n",
      "input_17 (InputLayer)           (None, 20, 7)        0                                            \n",
      "__________________________________________________________________________________________________\n",
      "conv1d_17 (Conv1D)              (None, 20, 64)       512         input_17[0][0]                   \n",
      "__________________________________________________________________________________________________\n",
      "dropout_33 (Dropout)            (None, 20, 64)       0           conv1d_17[0][0]                  \n",
      "__________________________________________________________________________________________________\n",
      "bidirectional_17 (Bidirectional (None, 20, 128)      66048       dropout_33[0][0]                 \n",
      "__________________________________________________________________________________________________\n",
      "dropout_34 (Dropout)            (None, 20, 128)      0           bidirectional_17[0][0]           \n",
      "__________________________________________________________________________________________________\n",
      "dense_30 (Dense)                (None, 20, 128)      16512       dropout_34[0][0]                 \n",
      "__________________________________________________________________________________________________\n",
      "attention_vec (Permute)         (None, 20, 128)      0           dense_30[0][0]                   \n",
      "__________________________________________________________________________________________________\n",
      "multiply_14 (Multiply)          (None, 20, 128)      0           dropout_34[0][0]                 \n",
      "                                                                 attention_vec[0][0]              \n",
      "__________________________________________________________________________________________________\n",
      "flatten_14 (Flatten)            (None, 2560)         0           multiply_14[0][0]                \n",
      "__________________________________________________________________________________________________\n",
      "dense_31 (Dense)                (None, 1)            2561        flatten_14[0][0]                 \n",
      "==================================================================================================\n",
      "Total params: 85,633\n",
      "Trainable params: 85,633\n",
      "Non-trainable params: 0\n",
      "__________________________________________________________________________________________________\n",
      "Train on 31517 samples, validate on 3502 samples\n",
      "Epoch 1/10\n",
      "31517/31517 [==============================] - 27s 866us/step - loss: 0.0031 - mae: 0.0355 - r2_keras: 0.6333 - val_loss: 0.0011 - val_mae: 0.0221 - val_r2_keras: 0.5869\n",
      "Epoch 2/10\n",
      "31517/31517 [==============================] - 26s 825us/step - loss: 0.0014 - mae: 0.0236 - r2_keras: 0.8335 - val_loss: 8.8971e-04 - val_mae: 0.0199 - val_r2_keras: 0.6371\n",
      "Epoch 3/10\n",
      "31517/31517 [==============================] - 26s 832us/step - loss: 0.0012 - mae: 0.0214 - r2_keras: 0.8575 - val_loss: 8.7652e-04 - val_mae: 0.0200 - val_r2_keras: 0.6532\n",
      "Epoch 4/10\n",
      "31517/31517 [==============================] - 26s 825us/step - loss: 0.0011 - mae: 0.0203 - r2_keras: 0.8688 - val_loss: 6.9479e-04 - val_mae: 0.0170 - val_r2_keras: 0.7246\n",
      "Epoch 5/10\n",
      "31517/31517 [==============================] - 26s 817us/step - loss: 0.0011 - mae: 0.0196 - r2_keras: 0.8711 - val_loss: 6.2959e-04 - val_mae: 0.0150 - val_r2_keras: 0.7831\n",
      "Epoch 6/10\n",
      "31517/31517 [==============================] - 26s 832us/step - loss: 0.0010 - mae: 0.0190 - r2_keras: 0.8766 - val_loss: 6.0893e-04 - val_mae: 0.0147 - val_r2_keras: 0.7833\n",
      "Epoch 7/10\n",
      "31517/31517 [==============================] - 26s 819us/step - loss: 9.8191e-04 - mae: 0.0187 - r2_keras: 0.8796 - val_loss: 6.4630e-04 - val_mae: 0.0155 - val_r2_keras: 0.7762\n",
      "Epoch 8/10\n",
      "31517/31517 [==============================] - 26s 825us/step - loss: 9.4828e-04 - mae: 0.0180 - r2_keras: 0.8836 - val_loss: 6.0493e-04 - val_mae: 0.0145 - val_r2_keras: 0.7867\n",
      "Epoch 9/10\n",
      "31517/31517 [==============================] - 26s 823us/step - loss: 9.5683e-04 - mae: 0.0182 - r2_keras: 0.8856 - val_loss: 6.0446e-04 - val_mae: 0.0147 - val_r2_keras: 0.7828\n",
      "Epoch 10/10\n",
      "31517/31517 [==============================] - 26s 825us/step - loss: 9.3178e-04 - mae: 0.0179 - r2_keras: 0.8884 - val_loss: 6.0735e-04 - val_mae: 0.0146 - val_r2_keras: 0.7938\n"
     ]
    }
   ],
   "source": [
    "from keras.callbacks import EarlyStopping, ModelCheckpoint\n",
    "model_path = './model.h5'\n",
    "# TRAIN\n",
    "INPUT_DIMS = 7\n",
    "TIME_STEPS = 20\n",
    "lstm_units = 64\n",
    "\n",
    "#Normalized\n",
    "train,normalize = NormalizeMult(train)\n",
    "pollution_data = train[:,0].reshape(len(train),1)\n",
    "\n",
    "train_X, _ = create_dataset(train,TIME_STEPS)\n",
    "_ , train_Y = create_dataset(pollution_data,TIME_STEPS)\n",
    "print(train_X.shape,train_Y.shape)\n",
    "\n",
    "m = attention_model()\n",
    "m.summary()\n",
    "#m.compile(optimizer='adam', loss='mse')\n",
    "m.compile(loss='mse', optimizer='adam',metrics=['mae',r2_keras])\n",
    "\n",
    "# fit the network\n",
    "history =  m.fit([train_X], train_Y, epochs=10, batch_size=64, validation_split=0.1)\n",
    "#history = m.fit([train_X], train_Y, epochs=10, batch_size=64, validation_split=0.05, verbose=2,\n",
    "#          callbacks = [EarlyStopping(monitor='val_loss', min_delta=0, patience=10, verbose=0, mode='min'),\n",
    "#                       ModelCheckpoint(model_path,monitor='val_loss', save_best_only=True, mode='min', verbose=0)]\n",
    "#          )"
   ]
  },
  {
   "cell_type": "code",
   "execution_count": 72,
   "metadata": {
    "colab": {
     "base_uri": "https://localhost:8080/",
     "height": 1000
    },
    "colab_type": "code",
    "id": "jZMLqYnQE7pA",
    "outputId": "1ca909ef-17b5-4545-8008-359359b7a09e"
   },
   "outputs": [
    {
     "data": {
      "image/png": "[encoded data removed]",
      "text/plain": [
       "<Figure size 720x720 with 1 Axes>"
      ]
     },
     "metadata": {
      "needs_background": "light",
      "tags": []
     },
     "output_type": "display_data"
    },
    {
     "data": {
      "image/png": "[encoded data removed]",
      "text/plain": [
       "<Figure size 720x720 with 1 Axes>"
      ]
     },
     "metadata": {
      "needs_background": "light",
      "tags": []
     },
     "output_type": "display_data"
    },
    {
     "data": {
      "image/png": "[encoded data removed]",
      "text/plain": [
       "<Figure size 720x720 with 1 Axes>"
      ]
     },
     "metadata": {
      "needs_background": "light",
      "tags": []
     },
     "output_type": "display_data"
    }
   ],
   "source": [
    "import matplotlib.pyplot as plt\n",
    "\n",
    "# summarize history for R^2\n",
    "fig_acc = plt.figure(figsize=(10, 10))\n",
    "plt.plot(history.history['r2_keras'])\n",
    "plt.plot(history.history['val_r2_keras'])\n",
    "plt.title('model r^2')\n",
    "plt.ylabel('R^2')\n",
    "plt.xlabel('epoch')\n",
    "plt.legend(['train', 'validation'], loc='upper left')\n",
    "plt.show()\n",
    "\n",
    "# summarize history for MAE\n",
    "fig_acc = plt.figure(figsize=(10, 10))\n",
    "plt.plot(history.history['mae'])\n",
    "plt.plot(history.history['val_mae'])\n",
    "plt.title('model MAE')\n",
    "plt.ylabel('MAE')\n",
    "plt.xlabel('epoch')\n",
    "plt.legend(['train', 'validation'], loc='upper left')\n",
    "plt.show()\n",
    "\n",
    "# summarize history for Loss\n",
    "fig_acc = plt.figure(figsize=(10, 10))\n",
    "plt.plot(history.history['loss'])\n",
    "plt.plot(history.history['val_loss'])\n",
    "plt.title('model loss')\n",
    "plt.ylabel('loss')\n",
    "plt.xlabel('epoch')\n",
    "plt.legend(['train', 'validation'], loc='upper left')\n",
    "plt.show()"
   ]
  },
  {
   "cell_type": "code",
   "execution_count": 73,
   "metadata": {
    "colab": {
     "base_uri": "https://localhost:8080/",
     "height": 51
    },
    "colab_type": "code",
    "id": "X2Eh6nLUxiOc",
    "outputId": "4266bc40-d511-4c17-dd8e-2be0776cd160"
   },
   "outputs": [
    {
     "name": "stdout",
     "output_type": "stream",
     "text": [
      "(7, 2)\n",
      "(8739, 20, 7) (8739, 1)\n"
     ]
    }
   ],
   "source": [
    "# TEST\n",
    "test,normalize = NormalizeMult(test)\n",
    "pollution_test = test[:,0].reshape(len(test),1)\n",
    "\n",
    "test_X, _ = create_dataset(test,TIME_STEPS)\n",
    "_ , test_Y = create_dataset(pollution_test,TIME_STEPS)\n",
    "print(test_X.shape,test_Y.shape)"
   ]
  },
  {
   "cell_type": "code",
   "execution_count": 74,
   "metadata": {
    "colab": {},
    "colab_type": "code",
    "id": "GtqnO0rIEv33"
   },
   "outputs": [],
   "source": [
    "# Prediction\n",
    "scores_test = m.evaluate([test_X], test_Y, verbose=2)"
   ]
  },
  {
   "cell_type": "code",
   "execution_count": 75,
   "metadata": {
    "colab": {
     "base_uri": "https://localhost:8080/",
     "height": 34
    },
    "colab_type": "code",
    "id": "7T03YObGJ2IG",
    "outputId": "afe8e3f8-e073-46fa-beb1-5a86bacf3d35"
   },
   "outputs": [
    {
     "data": {
      "text/plain": [
       "[0.0014314372724553543, 0.020876474678516388, 0.5813599228858948]"
      ]
     },
     "execution_count": 75,
     "metadata": {
      "tags": []
     },
     "output_type": "execute_result"
    }
   ],
   "source": [
    "scores_test"
   ]
  },
  {
   "cell_type": "code",
   "execution_count": 76,
   "metadata": {
    "colab": {},
    "colab_type": "code",
    "id": "uMQIPLs2J5H0"
   },
   "outputs": [],
   "source": [
    "results = m.predict([test_X])"
   ]
  },
  {
   "cell_type": "code",
   "execution_count": 77,
   "metadata": {
    "colab": {
     "base_uri": "https://localhost:8080/",
     "height": 136
    },
    "colab_type": "code",
    "id": "MJBK7xDBZbLn",
    "outputId": "bba4fa56-4290-431b-9bba-d42ee95292b2"
   },
   "outputs": [
    {
     "data": {
      "text/plain": [
       "array([[0.05950901],\n",
       "       [0.0903574 ],\n",
       "       [0.10436197],\n",
       "       ...,\n",
       "       [0.01074445],\n",
       "       [0.01092879],\n",
       "       [0.01012178]], dtype=float32)"
      ]
     },
     "execution_count": 77,
     "metadata": {
      "tags": []
     },
     "output_type": "execute_result"
    }
   ],
   "source": [
    "results"
   ]
  },
  {
   "cell_type": "code",
   "execution_count": 61,
   "metadata": {
    "colab": {
     "base_uri": "https://localhost:8080/",
     "height": 136
    },
    "colab_type": "code",
    "id": "6bef7D3hZdtB",
    "outputId": "490cd6e7-9645-41c3-fc97-f40175af676f"
   },
   "outputs": [
    {
     "data": {
      "text/plain": [
       "array([[0.02012072],\n",
       "       [0.        ],\n",
       "       [0.12877264],\n",
       "       ...,\n",
       "       [0.12374245],\n",
       "       [0.02012072],\n",
       "       [0.20623742]])"
      ]
     },
     "execution_count": 61,
     "metadata": {
      "tags": []
     },
     "output_type": "execute_result"
    }
   ],
   "source": [
    "test_Y"
   ]
  },
  {
   "cell_type": "code",
   "execution_count": 79,
   "metadata": {
    "colab": {
     "base_uri": "https://localhost:8080/",
     "height": 621
    },
    "colab_type": "code",
    "id": "v9VJmMoYZjhK",
    "outputId": "0283f4d5-6fd1-4d3c-888d-eab09c5fb4a8"
   },
   "outputs": [
    {
     "data": {
      "image/png": "[encoded data removed]",
      "text/plain": [
       "<Figure size 720x720 with 1 Axes>"
      ]
     },
     "metadata": {
      "needs_background": "light",
      "tags": []
     },
     "output_type": "display_data"
    }
   ],
   "source": [
    "fig_acc = plt.figure(figsize=(10, 10))\n",
    "plt.plot(results[:100])\n",
    "plt.plot(test_Y[:100])\n",
    "plt.title('real vs pred')\n",
    "plt.ylabel('value')\n",
    "plt.xlabel('epoch')\n",
    "plt.legend(['pred', 'real'], loc='upper left')\n",
    "plt.show()"
   ]
  },
  {
   "cell_type": "code",
   "execution_count": null,
   "metadata": {
    "colab": {},
    "colab_type": "code",
    "id": "C7h_veddhers"
   },
   "outputs": [],
   "source": []
  }
 ],
 "metadata": {
  "colab": {
   "name": "Cnn-bilstm-attention.ipynb",
   "provenance": []
  },
  "kernelspec": {
   "display_name": "Python 3 (ipykernel)",
   "language": "python",
   "name": "python3"
  },
  "language_info": {
   "codemirror_mode": {
    "name": "ipython",
    "version": 3
   },
   "file_extension": ".py",
   "mimetype": "text/x-python",
   "name": "python",
   "nbconvert_exporter": "python",
   "pygments_lexer": "ipython3",
   "version": "3.9.16"
  }
 },
 "nbformat": 4,
 "nbformat_minor": 1
}
