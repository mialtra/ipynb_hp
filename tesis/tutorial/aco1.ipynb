{
 "cells": [
  {
   "cell_type": "code",
   "execution_count": 11,
   "id": "3d771969",
   "metadata": {},
   "outputs": [
    {
     "name": "stdout",
     "output_type": "stream",
     "text": [
      "Rute Kendaraan 1: [32, 19, 21, 2, 13, 22, 24, 39, 33]\n",
      "Rute Kendaraan 2: [33, 9, 18, 6, 8, 26, 16, 20, 29]\n",
      "Rute Kendaraan 3: [29, 37, 12, 25, 7, 23, 11, 4, 35]\n",
      "Rute Kendaraan 4: [35, 14, 1, 30, 38, 36, 31, 10, 0]\n",
      "Rute Kendaraan 5: [0, 3, 34, 17, 28, 5, 15, 27, 32]\n"
     ]
    }
   ],
   "source": [
    "import numpy as np\n",
    "\n",
    "# Jumlah kota/ports\n",
    "num_cities = 40\n",
    "\n",
    "# Jumlah kendaraan\n",
    "num_vehicles = 5\n",
    "\n",
    "# Maksimum jumlah iterasi\n",
    "max_iterations = 100\n",
    "\n",
    "# Matriks jarak antara kota/ports (misalnya, digunakan angka acak dalam contoh ini)\n",
    "distance_matrix = np.random.randint(10, 100, size=(num_cities, num_cities))\n",
    "np.fill_diagonal(distance_matrix, 0)  # Jarak kota ke dirinya sendiri adalah 0\n",
    "\n",
    "# Inisialisasi pheromone pada setiap jalur\n",
    "pheromone_matrix = np.ones((num_cities, num_cities))\n",
    "\n",
    "# Algoritma Koloni Semut\n",
    "for iteration in range(max_iterations):\n",
    "    # Simulasi pergerakan semut\n",
    "    for vehicle in range(num_vehicles):\n",
    "        # Inisialisasi semut di kota awal (misalnya, kota 0)\n",
    "        current_city = vehicle * (num_cities // num_vehicles)\n",
    "        unvisited_cities = set(range(num_cities))\n",
    "        unvisited_cities.remove(current_city)\n",
    "\n",
    "        # Inisialisasi rute kendaraan\n",
    "        route = [current_city]\n",
    "\n",
    "        # Pergi ke kota berikutnya hingga semua kota dikunjungi\n",
    "        while unvisited_cities:\n",
    "            next_city = min(\n",
    "                unvisited_cities,\n",
    "                key=lambda city: pheromone_matrix[current_city][city]\n",
    "                / distance_matrix[current_city][city],\n",
    "            )\n",
    "            route.append(next_city)\n",
    "            unvisited_cities.remove(next_city)\n",
    "            current_city = next_city\n",
    "\n",
    "        # Kembali ke kota awal untuk menutup rute kendaraan\n",
    "        route.append(vehicle * (num_cities // num_vehicles))\n",
    "\n",
    "        # Hitung total panjang rute kendaraan\n",
    "        total_distance = sum(distance_matrix[route[i]][route[i + 1]] for i in range(len(route) - 1))\n",
    "\n",
    "        # Update pheromone pada rute yang baru saja dilalui oleh kendaraan\n",
    "        for i in range(len(route) - 1):\n",
    "            pheromone_matrix[route[i]][route[i + 1]] += 1.0 / total_distance\n",
    "\n",
    "    # Penguapan pheromone pada setiap jalur setelah semua kendaraan telah bergerak\n",
    "    pheromone_matrix *= 0.2\n",
    "\n",
    "# Menampilkan hasil rute untuk masing-masing kendaraan\n",
    "for vehicle in range(num_vehicles):\n",
    "    start_city = vehicle * (num_cities // num_vehicles)\n",
    "    end_city = (vehicle + 1) * (num_cities // num_vehicles)\n",
    "    print(f\"Rute Kendaraan {vehicle+1}: {route[start_city:end_city+1]}\")\n"
   ]
  },
  {
   "cell_type": "code",
   "execution_count": 5,
   "id": "133c34e4",
   "metadata": {},
   "outputs": [
    {
     "data": {
      "text/plain": [
       "array([[ 0, 12, 38, ..., 99, 32, 44],\n",
       "       [91,  0, 46, ..., 58, 68, 73],\n",
       "       [39, 22,  0, ..., 49, 72, 65],\n",
       "       ...,\n",
       "       [39, 96, 95, ...,  0, 75, 53],\n",
       "       [40, 45, 18, ..., 24,  0, 21],\n",
       "       [94, 74, 18, ..., 19, 47,  0]])"
      ]
     },
     "execution_count": 5,
     "metadata": {},
     "output_type": "execute_result"
    }
   ],
   "source": [
    "distance_matrix"
   ]
  },
  {
   "cell_type": "code",
   "execution_count": null,
   "id": "30ed0dfe",
   "metadata": {},
   "outputs": [],
   "source": []
  },
  {
   "cell_type": "code",
   "execution_count": null,
   "id": "8315de25",
   "metadata": {},
   "outputs": [],
   "source": [
    "pip install ant-colony-optimization\n"
   ]
  },
  {
   "cell_type": "markdown",
   "id": "3b0702c9",
   "metadata": {},
   "source": [
    "import numpy as np\n",
    "from ant_colony import AntColony\n",
    "\n",
    "# Jumlah kendaraan\n",
    "num_vehicles = 3\n",
    "\n",
    "# Jumlah kota/ports\n",
    "num_cities = 40\n",
    "\n",
    "# Maksimum jumlah iterasi\n",
    "max_iterations = 100\n",
    "\n",
    "# Matriks jarak antara kota/ports (misalnya, digunakan angka acak dalam contoh ini)\n",
    "distance_matrix = np.random.randint(10, 100, size=(num_cities, num_cities))\n",
    "np.fill_diagonal(distance_matrix, 0)  # Jarak kota ke dirinya sendiri adalah 0\n",
    "\n",
    "# Fungsi evaluasi untuk algoritma koloni semut\n",
    "def evaluate_tour(tour):\n",
    "    total_distance = 0\n",
    "    for i in range(len(tour) - 1):\n",
    "        total_distance += distance_matrix[tour[i]][tour[i + 1]]\n",
    "    # Kembali ke port awal\n",
    "    total_distance += distance_matrix[tour[-1]][tour[0]]\n",
    "    return total_distance\n",
    "\n",
    "# Menentukan jalur dan menerapkan algoritma koloni semut\n",
    "aco = AntColony(distance_matrix, num_vehicles, num_ants=20, max_iterations=max_iterations)\n",
    "best_tours = aco.run()\n",
    "\n",
    "# Menampilkan hasil rute untuk masing-masing kendaraan\n",
    "for i, tour in enumerate(best_tours):\n",
    "    print(f\"Rute Kendaraan {i+1}: {tour}, Total Jarak: {evaluate_tour(tour)}\")\n"
   ]
  },
  {
   "cell_type": "code",
   "execution_count": null,
   "id": "871b25da",
   "metadata": {},
   "outputs": [],
   "source": []
  },
  {
   "cell_type": "markdown",
   "id": "6fda98a8",
   "metadata": {},
   "source": [
    "## ACO example 2"
   ]
  },
  {
   "cell_type": "code",
   "execution_count": 3,
   "id": "6337783f",
   "metadata": {},
   "outputs": [
    {
     "name": "stdout",
     "output_type": "stream",
     "text": [
      "[29 13 28  9 26 21  5  9 10 10  5 19 23  5 13 16 19 25 19 28 28 10 27 29\n",
      " 29  9 16 15 28 22 21 16 24 22 12 14 26 24 21 14]\n",
      "[[ 0 63 95 ... 92 25 36]\n",
      " [24  0 55 ... 37 33 43]\n",
      " [80 67  0 ... 19 26 47]\n",
      " ...\n",
      " [63 82 99 ...  0 18 26]\n",
      " [77 89 22 ... 43  0 36]\n",
      " [33 68 56 ... 44 97  0]]\n"
     ]
    }
   ],
   "source": [
    "import numpy as np\n",
    "\n",
    "# Parameter ACO\n",
    "num_ants = 20\n",
    "num_iterations = 100\n",
    "alpha = 1  # Pheromone factor\n",
    "beta = 3   # Heuristic factor\n",
    "rho = 0.1  # Evaporation rate\n",
    "\n",
    "num_ports = 40\n",
    "num_vehicles = 5\n",
    "vehicle_capacities = [100, 120, 150, 130, 110]\n",
    "\n",
    "# Inisialisasi matriks jarak antar port (dapat diisi dengan jarak acak)\n",
    "distance_matrix = np.random.randint(10, 100, size=(num_ports, num_ports))\n",
    "np.fill_diagonal(distance_matrix, 0)\n",
    "\n",
    "# Inisialisasi muatan dari setiap port (dapat diisi dengan muatan acak)\n",
    "demands = np.random.randint(5, 30, size=num_ports)\n",
    "\n",
    "# Inisialisasi pheromone\n",
    "pheromone_matrix = np.ones((num_ports, num_ports))\n",
    "\n",
    "print(demands)\n",
    "print(distance_matrix)"
   ]
  },
  {
   "cell_type": "code",
   "execution_count": null,
   "id": "e1924b89",
   "metadata": {},
   "outputs": [],
   "source": []
  },
  {
   "cell_type": "code",
   "execution_count": 8,
   "id": "e10ba49c",
   "metadata": {},
   "outputs": [
    {
     "ename": "IndexError",
     "evalue": "list index out of range",
     "output_type": "error",
     "traceback": [
      "\u001b[1;31m---------------------------------------------------------------------------\u001b[0m",
      "\u001b[1;31mIndexError\u001b[0m                                Traceback (most recent call last)",
      "\u001b[1;32m~\\AppData\\Local\\Temp\\ipykernel_18380\\2333899400.py\u001b[0m in \u001b[0;36m<module>\u001b[1;34m\u001b[0m\n\u001b[0;32m     39\u001b[0m             \u001b[0mprobabilities\u001b[0m \u001b[1;33m=\u001b[0m \u001b[1;33m[\u001b[0m\u001b[1;33m]\u001b[0m\u001b[1;33m\u001b[0m\u001b[1;33m\u001b[0m\u001b[0m\n\u001b[0;32m     40\u001b[0m             \u001b[1;32mfor\u001b[0m \u001b[0mport\u001b[0m \u001b[1;32min\u001b[0m \u001b[0mrange\u001b[0m\u001b[1;33m(\u001b[0m\u001b[0mnum_ports\u001b[0m\u001b[1;33m)\u001b[0m\u001b[1;33m:\u001b[0m\u001b[1;33m\u001b[0m\u001b[1;33m\u001b[0m\u001b[0m\n\u001b[1;32m---> 41\u001b[1;33m                 \u001b[1;32mif\u001b[0m \u001b[0mport\u001b[0m \u001b[1;32mnot\u001b[0m \u001b[1;32min\u001b[0m \u001b[0mroute\u001b[0m \u001b[1;32mand\u001b[0m \u001b[0mdemands\u001b[0m\u001b[1;33m[\u001b[0m\u001b[0mport\u001b[0m\u001b[1;33m]\u001b[0m \u001b[1;33m<=\u001b[0m \u001b[0mvehicle_remaining_capacities\u001b[0m\u001b[1;33m[\u001b[0m\u001b[0mroute\u001b[0m\u001b[1;33m[\u001b[0m\u001b[1;33m-\u001b[0m\u001b[1;36m1\u001b[0m\u001b[1;33m]\u001b[0m\u001b[1;33m]\u001b[0m\u001b[1;33m:\u001b[0m\u001b[1;33m\u001b[0m\u001b[1;33m\u001b[0m\u001b[0m\n\u001b[0m\u001b[0;32m     42\u001b[0m                     \u001b[0mpheromone\u001b[0m \u001b[1;33m=\u001b[0m \u001b[0mpheromone_matrix\u001b[0m\u001b[1;33m[\u001b[0m\u001b[0mcurrent_port\u001b[0m\u001b[1;33m]\u001b[0m\u001b[1;33m[\u001b[0m\u001b[0mport\u001b[0m\u001b[1;33m]\u001b[0m\u001b[1;33m\u001b[0m\u001b[1;33m\u001b[0m\u001b[0m\n\u001b[0;32m     43\u001b[0m                     \u001b[0mdistance\u001b[0m \u001b[1;33m=\u001b[0m \u001b[0mdistance_matrix\u001b[0m\u001b[1;33m[\u001b[0m\u001b[0mcurrent_port\u001b[0m\u001b[1;33m]\u001b[0m\u001b[1;33m[\u001b[0m\u001b[0mport\u001b[0m\u001b[1;33m]\u001b[0m\u001b[1;33m\u001b[0m\u001b[1;33m\u001b[0m\u001b[0m\n",
      "\u001b[1;31mIndexError\u001b[0m: list index out of range"
     ]
    }
   ],
   "source": []
  },
  {
   "cell_type": "code",
   "execution_count": null,
   "id": "07d92e78",
   "metadata": {},
   "outputs": [],
   "source": []
  },
  {
   "cell_type": "code",
   "execution_count": null,
   "id": "af967f2a",
   "metadata": {},
   "outputs": [],
   "source": []
  }
 ],
 "metadata": {
  "kernelspec": {
   "display_name": "Python 3 (ipykernel)",
   "language": "python",
   "name": "python3"
  },
  "language_info": {
   "codemirror_mode": {
    "name": "ipython",
    "version": 3
   },
   "file_extension": ".py",
   "mimetype": "text/x-python",
   "name": "python",
   "nbconvert_exporter": "python",
   "pygments_lexer": "ipython3",
   "version": "3.9.16"
  }
 },
 "nbformat": 4,
 "nbformat_minor": 5
}
