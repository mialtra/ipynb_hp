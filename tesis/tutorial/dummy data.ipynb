{
 "cells": [
  {
   "cell_type": "code",
   "execution_count": 1,
   "id": "b088e778",
   "metadata": {},
   "outputs": [],
   "source": [
    "import numpy as np"
   ]
  },
  {
   "cell_type": "code",
   "execution_count": 6,
   "id": "9668970d",
   "metadata": {},
   "outputs": [
    {
     "data": {
      "text/plain": [
       "3"
      ]
     },
     "execution_count": 6,
     "metadata": {},
     "output_type": "execute_result"
    }
   ],
   "source": [
    "current_port = np.random.randint(10)\n",
    "current_port"
   ]
  },
  {
   "cell_type": "code",
   "execution_count": 9,
   "id": "63c251b5",
   "metadata": {},
   "outputs": [
    {
     "data": {
      "text/plain": [
       "array([ -7,  14, -22,   3, -13,   1, -18,  20,   5,  15])"
      ]
     },
     "execution_count": 9,
     "metadata": {},
     "output_type": "execute_result"
    }
   ],
   "source": [
    "\n",
    "demands = np.random.randint(-30, 30, size=10)\n",
    "demands"
   ]
  },
  {
   "cell_type": "code",
   "execution_count": null,
   "id": "06d26358",
   "metadata": {},
   "outputs": [],
   "source": []
  },
  {
   "cell_type": "code",
   "execution_count": 13,
   "id": "c3d03019",
   "metadata": {},
   "outputs": [],
   "source": [
    "passenger_ship_capacities = 1000\n",
    "passenger_demands = -200"
   ]
  },
  {
   "cell_type": "code",
   "execution_count": 14,
   "id": "da3e26d0",
   "metadata": {},
   "outputs": [],
   "source": [
    "passenger_ship_capacities -= passenger_demands"
   ]
  },
  {
   "cell_type": "code",
   "execution_count": 16,
   "id": "bbfbb47b",
   "metadata": {},
   "outputs": [
    {
     "data": {
      "text/plain": [
       "1200"
      ]
     },
     "execution_count": 16,
     "metadata": {},
     "output_type": "execute_result"
    }
   ],
   "source": [
    "passenger_ship_capacities"
   ]
  },
  {
   "cell_type": "code",
   "execution_count": 17,
   "id": "44f2b11e",
   "metadata": {},
   "outputs": [],
   "source": [
    "\n",
    "ports_code = np.array(['Port1','Port2','Port3','Port4','Port5','Port6','Port7','Port8','Port9','Port10'])"
   ]
  },
  {
   "cell_type": "code",
   "execution_count": 21,
   "id": "98d53243",
   "metadata": {},
   "outputs": [
    {
     "data": {
      "text/plain": [
       "10"
      ]
     },
     "execution_count": 21,
     "metadata": {},
     "output_type": "execute_result"
    }
   ],
   "source": [
    "len(ports_code)"
   ]
  },
  {
   "cell_type": "code",
   "execution_count": 22,
   "id": "df8c8b3d",
   "metadata": {},
   "outputs": [
    {
     "data": {
      "text/plain": [
       "array([[ 0, 55, 90, 27, 91, 74, 57, 92, 75, 46],\n",
       "       [19,  0, 15, 51, 73, 80, 64, 14, 49, 64],\n",
       "       [77, 49,  0, 71, 61, 44, 97, 16, 18, 34],\n",
       "       [50, 10, 39,  0, 93, 90, 55, 83, 80, 42],\n",
       "       [96, 84, 59, 28,  0, 38, 75, 79, 33, 26],\n",
       "       [53, 41, 23, 97, 15,  0, 25, 58, 81, 36],\n",
       "       [13, 65, 74, 67, 90, 22,  0, 62, 67, 63],\n",
       "       [51, 73, 23, 55, 90, 86, 85,  0, 81, 56],\n",
       "       [12, 96, 15, 62, 17, 84, 41, 84,  0, 66],\n",
       "       [11, 29, 99, 69, 85, 53, 45, 47, 27,  0]])"
      ]
     },
     "execution_count": 22,
     "metadata": {},
     "output_type": "execute_result"
    }
   ],
   "source": [
    "\n",
    "distance_matrix = np.random.randint(10, 100, size=(len(ports_code), len(ports_code)))\n",
    "np.fill_diagonal(distance_matrix, 0)\n",
    "distance_matrix"
   ]
  },
  {
   "cell_type": "code",
   "execution_count": null,
   "id": "9ef21ac6",
   "metadata": {},
   "outputs": [],
   "source": []
  },
  {
   "cell_type": "code",
   "execution_count": null,
   "id": "4f8355c4",
   "metadata": {},
   "outputs": [],
   "source": []
  },
  {
   "cell_type": "code",
   "execution_count": null,
   "id": "cc48b394",
   "metadata": {},
   "outputs": [],
   "source": []
  },
  {
   "cell_type": "code",
   "execution_count": null,
   "id": "4a6ad8a2",
   "metadata": {},
   "outputs": [],
   "source": []
  }
 ],
 "metadata": {
  "kernelspec": {
   "display_name": "Python 3 (ipykernel)",
   "language": "python",
   "name": "python3"
  },
  "language_info": {
   "codemirror_mode": {
    "name": "ipython",
    "version": 3
   },
   "file_extension": ".py",
   "mimetype": "text/x-python",
   "name": "python",
   "nbconvert_exporter": "python",
   "pygments_lexer": "ipython3",
   "version": "3.9.16"
  }
 },
 "nbformat": 4,
 "nbformat_minor": 5
}
