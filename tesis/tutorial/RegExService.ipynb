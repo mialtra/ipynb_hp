{
 "cells": [
  {
   "cell_type": "code",
   "execution_count": 1,
   "id": "5b74181c",
   "metadata": {},
   "outputs": [],
   "source": [
    "import re\n",
    "\n",
    "def getData(fileName):\n",
    "    f = open(fileName, \"r\")\n",
    "    content = f.read()\n",
    "    optimalValue = re.search(\"Optimal value: (\\d+)\", content, re.MULTILINE)\n",
    "    if(optimalValue != None):\n",
    "        optimalValue = optimalValue.group(1)\n",
    "    else:\n",
    "        optimalValue = re.search(\"Best value: (\\d+)\", content, re.MULTILINE)\n",
    "        if(optimalValue != None):\n",
    "            optimalValue = optimalValue.group(1)\n",
    "    capacity = re.search(\"^CAPACITY : (\\d+)$\", content, re.MULTILINE).group(1)\n",
    "    graph = re.findall(r\"^(\\d+) (\\d+) (\\d+)$\", content, re.MULTILINE)\n",
    "    demand = re.findall(r\"^(\\d+) (\\d+)$\", content, re.MULTILINE)\n",
    "    graph = {int(a):(int(b),int(c)) for a,b,c in graph}\n",
    "    demand = {int(a):int(b) for a,b in demand}\n",
    "    capacity = int(capacity)\n",
    "    optimalValue = int(optimalValue)\n",
    "    return capacity, graph, demand, optimalValue"
   ]
  }
 ],
 "metadata": {
  "kernelspec": {
   "display_name": "Python 3 (ipykernel)",
   "language": "python",
   "name": "python3"
  },
  "language_info": {
   "codemirror_mode": {
    "name": "ipython",
    "version": 3
   },
   "file_extension": ".py",
   "mimetype": "text/x-python",
   "name": "python",
   "nbconvert_exporter": "python",
   "pygments_lexer": "ipython3",
   "version": "3.9.16"
  }
 },
 "nbformat": 4,
 "nbformat_minor": 5
}
