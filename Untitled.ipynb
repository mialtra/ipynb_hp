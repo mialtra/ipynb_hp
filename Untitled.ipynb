{
 "cells": [
  {
   "cell_type": "code",
   "execution_count": 2,
   "id": "2d180179",
   "metadata": {},
   "outputs": [
    {
     "name": "stdout",
     "output_type": "stream",
     "text": [
      "mulai  2022-01-22 end  2023-02-26\n",
      "[*********************100%***********************]  1 of 1 completed\n",
      "[*********************100%***********************]  1 of 1 completed\n"
     ]
    }
   ],
   "source": [
    "\n",
    "import yfinance as yf\n",
    "import math\n",
    "from datetime import date, timedelta\n",
    "\n",
    "# !pip install yfinance\n",
    "KODE = 'BBNI.JK'\n",
    "today_date = date.today()\n",
    "td = timedelta(400)\n",
    "mulai = today_date - td\n",
    "print ('mulai ',mulai , 'end ',today_date)\n",
    "\n",
    "data = yf.download(KODE, start=mulai, end = today_date)\n",
    "datam = yf.download(KODE, period=\"max\", auto_adjust=True)"
   ]
  },
  {
   "cell_type": "code",
   "execution_count": null,
   "id": "dfac21a0",
   "metadata": {},
   "outputs": [],
   "source": [
    "# import library yang dibutuhkan\n",
    "import numpy as np\n",
    "import pandas as pd\n",
    "import tensorflow as tf\n",
    "from sklearn.preprocessing import MinMaxScaler\n",
    "\n",
    "# definisikan fungsi untuk membuat sekuens data\n",
    "def create_sequences(X, y, time_steps=1):\n",
    "    Xs, ys = [], []\n",
    "    for i in range(len(X) - time_steps):\n",
    "        Xs.append(X.iloc[i:(i + time_steps)].values)\n",
    "        ys.append(y.iloc[i + time_steps])\n",
    "    return np.array(Xs), np.array(ys)\n",
    "\n",
    "# definisikan fungsi bi-LSTM untuk prediksi saham\n",
    "def predict_stock_price(df):\n",
    "    # normalisasi data\n",
    "    scaler = MinMaxScaler()\n",
    "    df_scaled = scaler.fit_transform(df)\n",
    "\n",
    "    # definisikan waktu pengamatan\n",
    "    TIME_STEPS = 30\n",
    "\n",
    "    # buat sekuens data\n",
    "    X, y = create_sequences(pd.DataFrame(df_scaled), pd.DataFrame(df_scaled)[:, 0], TIME_STEPS)\n",
    "\n",
    "    # definisikan model bi-LSTM\n",
    "    model = tf.keras.Sequential([\n",
    "        tf.keras.layers.Bidirectional(tf.keras.layers.LSTM(units=64, return_sequences=True, input_shape=(X.shape[1], X.shape[2]))),\n",
    "        tf.keras.layers.Dropout(0.2),\n",
    "        tf.keras.layers.Bidirectional(tf.keras.layers.LSTM(units=32, return_sequences=True)),\n",
    "        tf.keras.layers.Dropout(0.2),\n",
    "        tf.keras.layers.Bidirectional(tf.keras.layers.LSTM(units=16)),\n",
    "        tf.keras.layers.Dropout(0.2),\n",
    "        tf.keras.layers.Dense(1)\n",
    "    ])\n",
    "\n",
    "    # latih model\n",
    "    model.compile(loss='mse', optimizer='adam')\n",
    "    model.fit(X, y, epochs=50, batch_size=32, verbose=1)\n",
    "\n",
    "    # membuat prediksi untuk 1 langkah ke depan\n",
    "    y_pred = model.predict(np.array([X[-1]]))\n",
    "\n",
    "    # balikkan normalisasi\n",
    "    y_pred_unscaled = scaler.inverse_transform(y_pred)[0][0]\n",
    "\n",
    "    return y_pred_unscaled\n"
   ]
  }
 ],
 "metadata": {
  "kernelspec": {
   "display_name": "Python 3 (ipykernel)",
   "language": "python",
   "name": "python3"
  },
  "language_info": {
   "codemirror_mode": {
    "name": "ipython",
    "version": 3
   },
   "file_extension": ".py",
   "mimetype": "text/x-python",
   "name": "python",
   "nbconvert_exporter": "python",
   "pygments_lexer": "ipython3",
   "version": "3.9.16"
  }
 },
 "nbformat": 4,
 "nbformat_minor": 5
}
