{
 "cells": [
  {
   "cell_type": "code",
   "execution_count": 5,
   "id": "17f3b61b",
   "metadata": {},
   "outputs": [],
   "source": [
    "import csv\n",
    "import random\n",
    "import matplotlib.pyplot as plt\n",
    "\n",
    "# Baca data dari file CSV\n",
    "def baca_data(file):\n",
    "    data = []\n",
    "    with open(file, 'r') as csv_file:\n",
    "        reader = csv.reader(csv_file)\n",
    "        next(reader)  # Skip header\n",
    "        for row in reader:\n",
    "            data.append([float(row[0]), float(row[1]), int(row[2])])\n",
    "    return data\n",
    "\n",
    "# Inisialisasi populasi acak\n",
    "def inisialisasi_populasi(jumlah_populasi):\n",
    "    populasi = []\n",
    "    for _ in range(jumlah_populasi):\n",
    "        populasi.append([random.uniform(-10, 10), random.uniform(-10, 10)])\n",
    "    return populasi\n",
    "\n",
    "# Evaluasi kecocokan individu dalam populasi\n",
    "def evaluasi_populasi(populasi, data):\n",
    "    fitness = []\n",
    "    for individu in populasi:\n",
    "        benar = 0\n",
    "        for titik in data:\n",
    "            x, y, label = titik\n",
    "            if (x * individu[0] + y * individu[1] >= 0 and label == 1) or \\\n",
    "                    (x * individu[0] + y * individu[1] < 0 and label == 0):\n",
    "                benar += 1\n",
    "        fitness.append(benar)\n",
    "    return fitness\n",
    "\n",
    "# Seleksi orangtua menggunakan turnamen\n",
    "def seleksi(populasi, fitness, jumlah_orangtua):\n",
    "    orangtua = []\n",
    "    for _ in range(jumlah_orangtua):\n",
    "        kandidat = random.choices(range(len(populasi)), k=3)\n",
    "        max_fitness = max([fitness[i] for i in kandidat])\n",
    "        orangtua.append(populasi[fitness.index(max_fitness)])\n",
    "    return orangtua\n",
    "\n",
    "# Melakukan crossover dua orangtua untuk menghasilkan anak\n",
    "def crossover(orangtua1, orangtua2):\n",
    "    anak = [0, 0]\n",
    "    for i in range(2):\n",
    "        if random.random() < 0.5:\n",
    "            anak[i] = orangtua1[i]\n",
    "        else:\n",
    "            anak[i] = orangtua2[i]\n",
    "    return anak\n",
    "\n",
    "# Melakukan mutasi pada individu anak\n",
    "def mutasi(individu, prob_mutasi):\n",
    "    for i in range(2):\n",
    "        if random.random() < prob_mutasi:\n",
    "            individu[i] += random.uniform(-0.1, 0.1)\n",
    "    return individu\n",
    "\n",
    "# Algoritma genetika\n",
    "def algoritma_genetika(data, jumlah_generasi, jumlah_populasi, prob_mutasi):\n",
    "    populasi = inisialisasi_populasi(jumlah_populasi)\n",
    "    for _ in range(jumlah_generasi):\n",
    "        fitness = evaluasi_populasi(populasi, data)\n",
    "        orangtua = seleksi(populasi, fitness, jumlah_populasi // 2)\n",
    "        populasi_baru = []\n",
    "        for i in range(jumlah_populasi // 2):\n",
    "            anak = crossover(orangtua[i], orangtua[len(orangtua) - i - 1])\n",
    "            anak = mutasi(anak, prob_mutasi)\n",
    "            populasi_baru.extend([anak, anak])\n",
    "        populasi = populasi_baru\n",
    "    fitness = evaluasi_populasi(populasi, data)\n",
    "    individu_terbaik = populasi[fitness.index(max(fitness))]\n",
    "    return individu_terbaik\n",
    "\n",
    "# Fungsi untuk memisahkan data berdasarkan garis model\n",
    "def pisahkan_data(data, individu):\n",
    "    data_1 = []\n",
    "    data_0 = []\n",
    "    for titik in data:\n",
    "        x, y, label = titik\n",
    "        if x * individu[0] + y * individu[1] >= 0:\n",
    "            data_1.append(titik)\n",
    "        else:\n",
    "            data_0.append(titik)\n",
    "    return data_1, data_0\n",
    "\n",
    "# Fungsi untuk memplot data dan garis model\n",
    "def plot_data(data_1, data_0, individu):\n",
    "    plt.scatter([titik[0] for titik in data_1], [titik[1] for titik in data_1], c='blue', label='1')\n",
    "    plt.scatter([titik[0] for titik in data_0], [titik[1] for titik in data_0], c='red', label='0')\n",
    "    plt.plot([-10, 10], [(-10 * individu[0] / individu[1]), (10 * individu[0] / individu[1])], color='green', linewidth=2)\n",
    "    plt.xlabel('X')\n",
    "    plt.ylabel('Y')\n",
    "    plt.legend()\n",
    "    plt.show()\n",
    "\n",
    " \n"
   ]
  },
  {
   "cell_type": "code",
   "execution_count": 10,
   "id": "9f3baaef",
   "metadata": {},
   "outputs": [
    {
     "data": {
      "image/png": "[encoded data removed]",
      "text/plain": [
       "<Figure size 640x480 with 1 Axes>"
      ]
     },
     "metadata": {},
     "output_type": "display_data"
    }
   ],
   "source": [
    "file_csv = 'DataClassification.csv'\n",
    "data = baca_data(file_csv)\n",
    "individu_terbaik = algoritma_genetika(data, jumlah_generasi=1000, jumlah_populasi=50, prob_mutasi=0.1)\n",
    "#data_1, data_0 = pisahkan_data(data, individu_terbaik)\n",
    "plot_data(data_1, data_0, individu_terbaik)"
   ]
  },
  {
   "cell_type": "code",
   "execution_count": null,
   "id": "d96f238f",
   "metadata": {},
   "outputs": [],
   "source": []
  },
  {
   "cell_type": "code",
   "execution_count": null,
   "id": "6ee84673",
   "metadata": {},
   "outputs": [],
   "source": []
  },
  {
   "cell_type": "code",
   "execution_count": null,
   "id": "3be74a10",
   "metadata": {},
   "outputs": [],
   "source": []
  },
  {
   "cell_type": "code",
   "execution_count": null,
   "id": "c43ac851",
   "metadata": {},
   "outputs": [],
   "source": []
  },
  {
   "cell_type": "code",
   "execution_count": null,
   "id": "e030a97a",
   "metadata": {},
   "outputs": [],
   "source": []
  },
  {
   "cell_type": "code",
   "execution_count": null,
   "id": "de7c802d",
   "metadata": {},
   "outputs": [],
   "source": []
  }
 ],
 "metadata": {
  "kernelspec": {
   "display_name": "Python 3 (ipykernel)",
   "language": "python",
   "name": "python3"
  },
  "language_info": {
   "codemirror_mode": {
    "name": "ipython",
    "version": 3
   },
   "file_extension": ".py",
   "mimetype": "text/x-python",
   "name": "python",
   "nbconvert_exporter": "python",
   "pygments_lexer": "ipython3",
   "version": "3.9.16"
  }
 },
 "nbformat": 4,
 "nbformat_minor": 5
}
