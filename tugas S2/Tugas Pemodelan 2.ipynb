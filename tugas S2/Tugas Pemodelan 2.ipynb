{
 "cells": [
  {
   "cell_type": "code",
   "execution_count": 1,
   "id": "7c030ca5",
   "metadata": {},
   "outputs": [],
   "source": [
    "def generate_data():\n",
    "    \"\"\"\n",
    "    We will generate data with a clear pattern.\n",
    "    This ensures we have an idea of the desired result.\n",
    "    This is only for demonstration purposes, real data is needed in practice.\n",
    "    \"\"\"\n",
    "    coeff = [2.4, -5.3, 4.2, -2.1]\n",
    "    x = [[random() for j in range(len(coeff))] for i in range(500)]   # generate random data set with range of 500\n",
    "    y = [dot(i, coeff) for i in x]\n",
    "    return array(x), array(y)\n"
   ]
  },
  {
   "cell_type": "code",
   "execution_count": 2,
   "id": "0e6f34ff",
   "metadata": {},
   "outputs": [],
   "source": [
    "def multiple_linear_regression(inputs, outputs):\n",
    "    \"\"\"\n",
    "    Get the best expected outcome.\n",
    "    This is expected to equal the coefficients in generate_data().\n",
    "    \"\"\"\n",
    "    X, Y = array(inputs), array(outputs)\n",
    "    X_t, Y_t = X.transpose(), Y.transpose()\n",
    "    coeff = dot((pinv((dot(X_t, X)))), (dot(X_t, Y)))\n",
    "    Y_p = dot(X, coeff)\n",
    "    Y_mean = mean(Y)\n",
    "    SST = array([(i - Y_mean) ** 2 for i in Y]).sum()         # SST: the total error in a model, it is the sum of all deviations squared\n",
    "    SSR = array([(i - j) ** 2 for i, j in zip(Y, Y_p)]).sum() # SSR: a measure of the explained variation in SST.\n",
    "    COD = (1 - (SSR / SST)) * 100.0                           # COD: stands for ‘coefficient of determination’ which is basically a measure of how good a model is.\n",
    "    av_error = (SSR / len(Y))\n",
    "    return {'COD': COD, 'coeff': coeff, 'error': av_error}    # error: the average error, is an average of all deviations from expected values"
   ]
  },
  {
   "cell_type": "code",
   "execution_count": 3,
   "id": "7b45eed8",
   "metadata": {},
   "outputs": [],
   "source": [
    "def check_termination_condition(best_individual):\n",
    "    \"\"\"\n",
    "    Check if the current_best_individual is better of equal to the expected.\n",
    "    \"\"\"\n",
    "    if ((best_individual['COD'] >= 98.5)\n",
    "            or (generation_count == max_generations)):\n",
    "        return True\n",
    "    else:\n",
    "        return False"
   ]
  },
  {
   "cell_type": "code",
   "execution_count": 4,
   "id": "1d3b5818",
   "metadata": {},
   "outputs": [],
   "source": [
    "def create_individual(individual_size):\n",
    "    \"\"\"\n",
    "    Create an individual.\n",
    "    \"\"\"\n",
    "    return [random() for i in range(individual_size)]   # To create an initial individual, we will use random assigning of variables.\n",
    "\n",
    "\n",
    "def create_population(individual_size, population_size):\n",
    "    \"\"\"\n",
    "    Create an initial population.\n",
    "    \"\"\"\n",
    "    return [create_individual(individual_size) for i in range(population_size)]\n",
    "\n",
    "\n",
    "def get_fitness(individual, inputs):\n",
    "    \"\"\"\n",
    "    Calculate the fitness of an individual.\n",
    "    Return the Coefficient of Determination, average error and weight.\n",
    "    We use the error to get the best individual.\n",
    "    \"\"\"\n",
    "    predicted_outputs = dot(array(inputs), array(individual))\n",
    "    output_mean = mean(outputs)\n",
    "    SST = array(\n",
    "        [(i - output_mean) ** 2 for i in outputs]).sum()\n",
    "    SSR = array(\n",
    "        [(i - j) ** 2 for i, j in zip(outputs, predicted_outputs)]).sum()\n",
    "    COD = (1 - (SSR / SST)) * 100.0\n",
    "    av_error = (SSR / len(outputs))\n",
    "    return {'COD': COD, 'error': av_error, 'coeff': individual}\n",
    "\n",
    "\n",
    "def evaluate_population(population):\n",
    "    \"\"\"\n",
    "    Evaluate a population of individuals and return the best among them.\n",
    "    \"\"\"\n",
    "    fitness_list = [get_fitness(individual, inputs)\n",
    "                    for individual in tqdm(population)]\n",
    "    error_list = sorted(fitness_list, key=lambda i: i['error'])\n",
    "    best_individuals = error_list[: selection_size]\n",
    "    best_individuals_stash.append(best_individuals[0]['coeff'])\n",
    "    print('Error: ', best_individuals[0]['error'],\n",
    "          'COD: ', best_individuals[0]['COD'])\n",
    "    return best_individuals\n",
    "\n",
    "\n",
    "def crossover(parent_1, parent_2):\n",
    "    \"\"\"\n",
    "    Return offspring given two parents.\n",
    "    Unlike real scenarios, genes in the chromosomes aren't necessarily linked.\n",
    "    \"\"\"\n",
    "    child = {}\n",
    "    loci = [i for i in range(0, individual_size)]\n",
    "    loci_1 = sample(loci, floor(0.5*(individual_size)))\n",
    "    loci_2 = [i for i in loci if i not in loci_1]\n",
    "    chromosome_1 = [[i, parent_1['coeff'][i]] for i in loci_1]\n",
    "    chromosome_2 = [[i, parent_2['coeff'][i]] for i in loci_2]\n",
    "    child.update({key: value for (key, value) in chromosome_1})\n",
    "    child.update({key: value for (key, value) in chromosome_2})\n",
    "    return [child[i] for i in loci]\n",
    "\n",
    "\n",
    "def mutate(individual):\n",
    "    \"\"\"\n",
    "    Mutate an individual.\n",
    "    The gene transform decides whether we'll add or deduct a random value.\n",
    "    \"\"\"\n",
    "    loci = [i for i in range(0, individual_size)]\n",
    "    no_of_genes_mutated = floor(probability_of_gene_mutating*individual_size)\n",
    "    loci_to_mutate = sample(loci, no_of_genes_mutated)\n",
    "    for locus in loci_to_mutate:\n",
    "        gene_transform = choice([-1, 1])\n",
    "        change = gene_transform*random()\n",
    "        individual[locus] = individual[locus] + change\n",
    "    return individual\n",
    "\n",
    "\n",
    "def get_new_generation(selected_individuals):\n",
    "    \"\"\"\n",
    "    Given selected individuals, create a new population by mating them.\n",
    "    Here we also apply variation operations like mutation and crossover.\n",
    "    \"\"\"\n",
    "    parent_pairs = [sample(selected_individuals, 2)\n",
    "                    for i in range(population_size)]\n",
    "    offspring = [crossover(pair[0], pair[1]) for pair in parent_pairs]\n",
    "    offspring_indices = [i for i in range(population_size)]\n",
    "    offspring_to_mutate = sample(\n",
    "        offspring_indices,\n",
    "        floor(probability_of_individual_mutating*population_size)\n",
    "    )\n",
    "    mutated_offspring = [[i, mutate(offspring[i])]\n",
    "                         for i in offspring_to_mutate]\n",
    "    for child in mutated_offspring:\n",
    "        offspring[child[0]] = child[1]\n",
    "    return offspring"
   ]
  },
  {
   "cell_type": "code",
   "execution_count": 5,
   "id": "2e8aea0b",
   "metadata": {},
   "outputs": [],
   "source": [
    "import pandas as pd\n",
    "import numpy as np\n",
    "from random import random, sample, choice\n",
    "from math import floor\n",
    "from tqdm import tqdm                  # instantly make your loops show a smart progress meter\n",
    "from numpy import array, dot, mean\n",
    "from numpy.linalg import pinv\n",
    "from sys import exit"
   ]
  },
  {
   "cell_type": "code",
   "execution_count": 6,
   "id": "563b0878",
   "metadata": {},
   "outputs": [
    {
     "name": "stdout",
     "output_type": "stream",
     "text": [
      "(500, 4)\n"
     ]
    }
   ],
   "source": [
    "# MAIN CODE\n",
    "# Initialization\n",
    "inputs, outputs = generate_data()\n",
    "print(inputs.shape)\n"
   ]
  },
  {
   "cell_type": "code",
   "execution_count": 7,
   "id": "365ae0d1",
   "metadata": {},
   "outputs": [
    {
     "data": {
      "text/plain": [
       "array([[0.82928884, 0.7914251 , 0.11348121, 0.52817478],\n",
       "       [0.38021648, 0.65639506, 0.13819931, 0.96459584],\n",
       "       [0.41304763, 0.28510538, 0.34782921, 0.89924431],\n",
       "       ...,\n",
       "       [0.30648863, 0.79493632, 0.77491432, 0.27583662],\n",
       "       [0.12403831, 0.49625996, 0.55969417, 0.2771384 ],\n",
       "       [0.99201965, 0.76975983, 0.80812592, 0.94929362]])"
      ]
     },
     "execution_count": 7,
     "metadata": {},
     "output_type": "execute_result"
    }
   ],
   "source": [
    "inputs"
   ]
  },
  {
   "cell_type": "code",
   "execution_count": 8,
   "id": "f6959650",
   "metadata": {},
   "outputs": [
    {
     "name": "stdout",
     "output_type": "stream",
     "text": [
      "(500,)\n"
     ]
    }
   ],
   "source": [
    "print(outputs.shape)"
   ]
  },
  {
   "cell_type": "code",
   "execution_count": 9,
   "id": "9243e9c5",
   "metadata": {},
   "outputs": [
    {
     "data": {
      "text/plain": [
       "array([-2.83680575e+00, -4.01158843e+00, -9.47274585e-01, -1.49012707e+00,\n",
       "       -4.30560034e-01, -1.46663540e-02,  2.19417393e+00, -1.04243903e+00,\n",
       "       -3.91205327e+00, -1.65225247e+00, -1.27385164e+00, -2.74881724e-01,\n",
       "        1.40052858e+00, -2.38649626e+00, -1.01393380e+00, -1.33828924e-01,\n",
       "        6.24356418e-01, -1.59310170e+00,  7.84727262e-01, -4.50787391e-02,\n",
       "        2.97030362e+00, -3.47714666e+00, -6.01600874e+00, -8.78934814e-01,\n",
       "        3.13278664e+00,  1.53592127e+00, -7.29157121e-02, -5.36422447e+00,\n",
       "       -2.13128566e+00, -3.56524568e-01,  2.04470882e+00, -1.85460102e+00,\n",
       "        4.21023370e-01,  6.96792855e-01,  3.06323082e+00,  6.55086128e-01,\n",
       "       -3.42425228e+00,  1.24633933e+00,  3.24606191e-02, -1.40331668e+00,\n",
       "       -3.01518070e+00, -6.29807621e-01,  2.07615844e+00,  2.93313828e-01,\n",
       "       -9.83598665e-01, -3.84088117e+00,  1.56813366e+00,  2.58244294e+00,\n",
       "       -2.93597839e-01,  6.53892263e-01,  1.22013800e+00, -4.50423740e-01,\n",
       "        3.57686627e-02, -9.59450046e-01,  4.45206584e+00,  4.54617814e+00,\n",
       "       -1.74172711e+00, -2.40570178e+00, -2.28392150e+00,  3.92866414e+00,\n",
       "       -1.21087740e+00, -9.47593733e-01, -6.28548931e-01,  7.86647167e-01,\n",
       "       -2.66639611e+00,  7.66339281e-01, -3.17301805e+00,  2.88652951e-01,\n",
       "        4.63985908e-01,  5.87855222e-01,  8.94140669e-01, -7.75641362e-01,\n",
       "       -1.55476447e+00,  1.19229673e+00, -5.67570995e+00, -1.96073126e-01,\n",
       "       -3.05245570e-01, -5.16649536e+00,  2.27456224e+00,  4.08037307e+00,\n",
       "       -2.78379865e+00, -4.19202507e+00,  9.16171203e-01, -1.72347537e+00,\n",
       "        2.19765350e+00, -3.58869055e+00,  1.48778458e+00, -1.30808327e+00,\n",
       "        1.04417628e+00, -4.09241906e+00,  1.68115828e+00,  2.16487635e-01,\n",
       "        1.47049524e+00, -1.46469124e+00,  1.50517184e+00,  3.89910535e-01,\n",
       "        1.14463924e+00, -1.48032667e+00, -3.71597604e+00,  8.03016225e-01,\n",
       "       -2.20399501e+00,  3.61099125e-01, -6.21992022e-01,  2.29032717e+00,\n",
       "        2.44878744e+00, -1.52256542e+00,  5.54202370e-01, -1.53196296e+00,\n",
       "        1.49898806e+00, -4.57466437e+00,  1.53661910e+00, -1.41791570e+00,\n",
       "       -2.76453682e+00, -1.25060775e+00, -5.18674532e+00, -5.78019647e-01,\n",
       "        1.93816184e+00, -1.23344446e+00, -2.56810967e+00, -1.55591331e+00,\n",
       "       -3.25066642e-01, -1.49390809e+00, -3.17610203e+00, -7.93198036e-01,\n",
       "       -3.35625196e+00,  4.51403035e+00,  1.46645583e+00,  6.63186173e-01,\n",
       "        7.95695112e-02, -2.08577150e-02, -4.34960764e-01, -9.12683772e-01,\n",
       "       -3.28062579e+00, -2.61426376e-01,  8.60462052e-01, -8.03599333e-01,\n",
       "       -4.88175949e+00,  2.65410699e-01, -2.53584684e+00, -3.94378308e-01,\n",
       "       -4.68843326e-01, -1.88843901e-02,  3.67899706e+00, -4.87424297e+00,\n",
       "       -1.83897303e+00, -1.40468833e+00,  7.87885512e-01,  1.94065704e+00,\n",
       "       -1.23306407e+00, -2.82800797e+00, -3.25792472e-01,  5.20402836e-01,\n",
       "       -2.27537365e-01,  3.11770676e+00,  4.57124793e-02,  6.16188831e-01,\n",
       "       -3.61730521e+00, -1.58952076e+00, -1.76851673e+00, -1.51499411e+00,\n",
       "        2.94389767e+00, -2.41039880e+00,  1.08541057e+00, -1.81579643e+00,\n",
       "       -2.76678540e+00, -3.85023367e-01,  1.74366881e+00,  4.82625486e+00,\n",
       "       -2.71849860e+00, -1.30428369e+00,  1.87280209e+00, -3.57004347e+00,\n",
       "       -1.65167836e+00, -8.43834152e-01,  1.99122039e+00, -1.40679938e+00,\n",
       "        1.71563221e+00,  2.29737488e+00,  4.03648304e-01, -5.83561218e-01,\n",
       "       -3.46136312e+00, -2.25564474e+00,  1.01742211e+00,  4.62551067e+00,\n",
       "        1.57507779e+00, -2.78407227e+00, -1.99861983e+00, -1.07698867e+00,\n",
       "       -5.76990266e-01,  3.24331321e-01,  9.01933949e-01, -2.59181858e-01,\n",
       "        2.06095244e+00,  1.94018958e+00,  6.86839963e-01, -2.69246902e+00,\n",
       "        7.32420616e-01, -3.63982317e+00, -1.76357478e+00, -6.50807994e-01,\n",
       "       -1.80130272e+00,  9.16981659e-01, -2.56710656e+00, -3.46441275e+00,\n",
       "       -3.63865734e+00, -8.77261154e-01, -2.43923657e+00, -3.57853978e+00,\n",
       "       -2.89370058e+00, -2.16030973e+00, -2.01826869e+00, -1.93665811e+00,\n",
       "        9.64960385e-01, -5.43655466e-01, -5.08719017e+00, -2.16299227e+00,\n",
       "       -4.31070528e-01, -1.83075782e+00,  4.00036366e-01,  6.80344764e-01,\n",
       "       -6.76006668e-01,  1.65029384e+00,  3.46431994e+00,  2.29550377e+00,\n",
       "       -3.34769843e+00, -2.71142189e+00, -2.43978387e+00,  2.91264560e+00,\n",
       "        4.63651452e-03, -3.18389926e+00,  6.19659598e-02, -6.76132072e-01,\n",
       "        9.16035705e-01,  3.63076725e+00, -2.91935850e-01, -9.62361859e-01,\n",
       "       -2.17978528e+00, -3.78246470e-01, -3.02216408e+00, -2.42436823e+00,\n",
       "       -3.13646716e+00, -1.83814118e+00,  2.42361873e+00,  1.05439581e+00,\n",
       "       -3.64116799e+00, -7.23049572e-01,  1.56828492e-01, -9.70842294e-01,\n",
       "       -4.75404974e+00,  1.30240424e+00, -2.20317829e+00, -8.59021456e-02,\n",
       "       -1.47901668e+00, -1.58129198e-01, -2.52120585e+00,  2.00287281e-02,\n",
       "       -1.26239624e-01, -6.41080827e-01,  1.38433968e+00,  5.81204145e-02,\n",
       "        2.14332286e+00,  1.44342644e+00, -1.64227427e+00,  2.44375772e+00,\n",
       "       -1.31669913e+00, -1.03818426e+00, -7.29509077e-02,  2.41967795e+00,\n",
       "        1.14543042e+00, -7.68767097e-01,  2.42909232e+00, -2.20230220e+00,\n",
       "        1.29656272e+00,  2.41203292e+00,  2.02949006e+00,  1.59450052e+00,\n",
       "       -4.01988447e+00, -2.56210440e+00, -4.52238821e-01,  7.76241168e-01,\n",
       "       -9.55228328e-03, -1.30083162e+00,  4.21928888e-01,  7.68196398e-01,\n",
       "       -2.59064421e+00,  1.51629775e+00,  1.88960476e+00, -1.35344358e+00,\n",
       "        3.16848610e+00, -2.10907980e+00,  4.30838032e-01,  9.69032509e-01,\n",
       "        1.30605057e-01, -3.13505426e+00, -3.95924605e-02, -2.49169818e+00,\n",
       "        2.63290313e+00, -2.37168805e+00,  1.57903502e+00,  1.58994339e+00,\n",
       "       -1.77752312e+00, -3.98814074e-01, -3.37746039e+00, -1.45679055e+00,\n",
       "        1.31626385e+00, -2.22074857e-02,  1.84723708e+00, -2.58774841e+00,\n",
       "        2.44214809e+00,  3.63109037e-01,  2.06673362e-01, -2.68799087e+00,\n",
       "        1.58760926e+00, -2.21786551e+00, -3.42305676e+00,  1.38314259e+00,\n",
       "        8.97075787e-01,  2.30349004e+00,  2.01872909e+00, -4.13987033e-01,\n",
       "       -2.21796410e+00, -2.79668817e+00,  1.87917972e-01, -1.52478694e+00,\n",
       "       -4.35776485e+00, -6.43868130e-02, -1.23567366e+00, -1.83976755e+00,\n",
       "        2.70283499e-01, -3.95198810e+00,  1.83089341e+00,  4.34407131e-01,\n",
       "        1.10624434e+00,  4.01755096e+00, -2.31575328e+00, -1.49877340e-01,\n",
       "        1.39718869e+00, -6.60935605e-01, -3.56219665e-01, -2.19201013e+00,\n",
       "        2.36529548e+00,  1.41156337e+00, -1.03123863e+00, -5.26797108e+00,\n",
       "       -8.37994363e-01,  2.95175613e+00, -3.25307015e+00,  1.09974762e+00,\n",
       "        1.54173369e-01,  3.01221815e-01, -1.00259488e+00, -4.97070716e-01,\n",
       "       -1.03160577e+00,  1.55083173e+00,  4.20390110e-01, -2.55621684e+00,\n",
       "        3.20395054e+00,  5.34418997e+00, -3.80696750e-01,  2.59254787e+00,\n",
       "       -8.67644447e-01,  7.11739799e-01,  3.32397448e+00,  3.86786467e+00,\n",
       "       -2.81105144e+00, -2.02103962e+00,  5.46222508e-02,  1.24566178e+00,\n",
       "        3.54970544e+00, -9.58043643e-01, -3.76414540e+00,  1.57866978e+00,\n",
       "        1.41840381e+00, -3.70259529e+00,  4.70594105e+00, -8.99749965e-01,\n",
       "        1.62224389e+00,  2.13390932e+00, -1.88495861e-01,  1.39022628e+00,\n",
       "       -3.35870808e+00, -3.98585559e+00, -2.46098516e+00, -2.24604816e+00,\n",
       "        5.28283060e-02,  2.09325386e-01, -1.95962479e+00, -1.73842080e+00,\n",
       "        6.86056227e-01,  1.60728924e+00,  1.35930781e+00,  1.99824807e+00,\n",
       "       -2.97199318e+00, -2.95261482e+00, -1.96306402e+00, -7.36610903e-01,\n",
       "        2.17975371e+00, -1.09519707e+00, -2.65799071e+00, -3.92153760e+00,\n",
       "       -2.41824164e+00, -1.10999497e+00,  7.98588345e-01, -2.61755312e+00,\n",
       "        2.31553137e+00, -1.32069012e+00,  2.33099451e+00,  1.31795029e+00,\n",
       "       -2.42095664e-01, -4.24233862e+00, -1.19753052e+00,  4.74936359e+00,\n",
       "        3.82525795e+00, -2.05243570e+00, -1.33219706e-01,  2.18579412e+00,\n",
       "        6.31311227e-01, -4.20236608e+00,  1.08217788e+00, -2.74166967e+00,\n",
       "        2.51673721e+00,  1.29394757e+00,  6.15402403e-02, -1.28934058e+00,\n",
       "        3.74344634e-01,  1.93379380e-01,  3.38866884e+00,  2.28213890e+00,\n",
       "        1.58452152e-01, -1.96417018e+00, -2.86388200e+00,  1.08905176e+00,\n",
       "       -2.89695307e+00,  2.11126936e+00, -4.87268268e+00,  6.83286932e-01,\n",
       "       -2.66496708e+00,  1.96236622e+00,  3.36881371e+00, -2.24047340e+00,\n",
       "        1.10617207e+00, -2.92056352e+00, -2.33513817e+00, -2.92951520e+00,\n",
       "       -6.51586170e-01, -1.58051415e+00, -3.30667082e+00, -1.20732858e+00,\n",
       "       -1.80540240e+00, -2.27509511e+00, -1.87281371e+00,  5.26469321e-01,\n",
       "        5.20217612e-01,  2.96462241e+00, -2.89173978e+00,  4.71037381e-02,\n",
       "        1.11366591e+00,  2.67078029e+00, -2.32097534e-01,  7.05050984e-01,\n",
       "       -3.09369819e+00, -8.52728636e-02, -4.48943865e+00,  1.15115041e+00,\n",
       "       -2.95348525e+00, -2.61145911e+00, -3.72552886e-01, -2.54992283e+00,\n",
       "       -1.95272427e+00, -3.49951774e+00,  1.38503112e+00, -1.51292826e+00,\n",
       "       -1.44800310e+00, -1.10740451e+00, -6.96791630e-01, -3.75980576e+00,\n",
       "       -2.03909211e+00,  6.16395020e-01, -4.75051067e+00, -3.62118624e+00,\n",
       "        3.02156691e+00,  4.07661401e-01, -2.69730033e+00, -3.23977884e-01,\n",
       "        8.63085242e-01, -2.41498027e+00,  1.33618807e+00,  3.03108514e+00,\n",
       "       -3.27448491e+00, -9.81819423e-01,  3.75731323e+00, -4.72406950e-01,\n",
       "       -8.07713456e-01, -1.80716389e+00,  2.72138751e+00, -2.52953496e-01,\n",
       "        5.70692651e-01, -8.02206537e-01, -5.63760938e-01, -2.98267651e-01])"
      ]
     },
     "execution_count": 9,
     "metadata": {},
     "output_type": "execute_result"
    }
   ],
   "source": [
    "outputs"
   ]
  },
  {
   "cell_type": "code",
   "execution_count": 12,
   "id": "588581b2",
   "metadata": {},
   "outputs": [
    {
     "name": "stdout",
     "output_type": "stream",
     "text": [
      "Generation:  0\n",
      "current_best_individual:  {'COD': -39.59958428160952, 'error': 6.463205042019981, 'coeff': [0.03277137315784173, 0.3139258594122334, 0.6766678004719331, 0.661151378098761]}\n"
     ]
    },
    {
     "name": "stderr",
     "output_type": "stream",
     "text": [
      "100%|████████████████████████████████████████████████████████████████████████████| 1000/1000 [00:00<00:00, 3606.34it/s]\n"
     ]
    },
    {
     "name": "stdout",
     "output_type": "stream",
     "text": [
      "Error:  4.992125305600489 COD:  -7.82554673922673\n",
      "status termination =  False\n",
      "Generation:  1\n",
      "current_best_individual:  {'COD': -7.82554673922673, 'error': 4.992125305600489, 'coeff': [0.2630042764724788, 0.00345702536888004, 0.20118385836470998, 0.11130881742024545]}\n"
     ]
    },
    {
     "name": "stderr",
     "output_type": "stream",
     "text": [
      "100%|██████████████████████████████████████████████████████████████████████████████| 500/500 [00:00<00:00, 3504.84it/s]\n"
     ]
    },
    {
     "name": "stdout",
     "output_type": "stream",
     "text": [
      "Error:  3.571794589517768 COD:  22.852356285428034\n",
      "status termination =  False\n",
      "Generation:  2\n",
      "current_best_individual:  {'COD': 22.852356285428034, 'error': 3.571794589517768, 'coeff': [0.20874105759428108, -0.9361400397605871, 0.9413883206324353, 0.03380274926485749]}\n"
     ]
    },
    {
     "name": "stderr",
     "output_type": "stream",
     "text": [
      "100%|██████████████████████████████████████████████████████████████████████████████| 500/500 [00:00<00:00, 3506.16it/s]\n"
     ]
    },
    {
     "name": "stdout",
     "output_type": "stream",
     "text": [
      "Error:  3.2366267387170757 COD:  30.091689144611767\n",
      "status termination =  False\n",
      "Generation:  3\n",
      "current_best_individual:  {'COD': 30.091689144611767, 'error': 3.2366267387170757, 'coeff': [0.4539642415011904, -0.9361400397605871, 0.9413883206324353, -0.4055834620157216]}\n"
     ]
    },
    {
     "name": "stderr",
     "output_type": "stream",
     "text": [
      "100%|██████████████████████████████████████████████████████████████████████████████| 500/500 [00:00<00:00, 3530.53it/s]\n"
     ]
    },
    {
     "name": "stdout",
     "output_type": "stream",
     "text": [
      "Error:  2.986501788201313 COD:  35.49416962967242\n",
      "status termination =  False\n",
      "Generation:  4\n",
      "current_best_individual:  {'COD': 35.49416962967242, 'error': 2.986501788201313, 'coeff': [0.4493308475638291, -1.7700284246148903, 0.2907022140288096, 0.02089001726635753]}\n"
     ]
    },
    {
     "name": "stderr",
     "output_type": "stream",
     "text": [
      "100%|██████████████████████████████████████████████████████████████████████████████| 500/500 [00:00<00:00, 3505.89it/s]\n"
     ]
    },
    {
     "name": "stdout",
     "output_type": "stream",
     "text": [
      "Error:  2.4710068379197527 COD:  46.628410349364\n",
      "status termination =  False\n",
      "Generation:  5\n",
      "current_best_individual:  {'COD': 46.628410349364, 'error': 2.4710068379197527, 'coeff': [0.4493308475638291, -1.7700284246148903, 0.9413883206324353, -0.39181476956083205]}\n"
     ]
    },
    {
     "name": "stderr",
     "output_type": "stream",
     "text": [
      "100%|██████████████████████████████████████████████████████████████████████████████| 500/500 [00:00<00:00, 3433.83it/s]\n"
     ]
    },
    {
     "name": "stdout",
     "output_type": "stream",
     "text": [
      "Error:  2.2910211156651017 COD:  50.515944759926626\n",
      "status termination =  False\n",
      "Generation:  6\n",
      "current_best_individual:  {'COD': 50.515944759926626, 'error': 2.2910211156651017, 'coeff': [0.7201048263911747, -1.7700284246148903, 0.9413883206324353, -0.7176971195013012]}\n"
     ]
    },
    {
     "name": "stderr",
     "output_type": "stream",
     "text": [
      "100%|██████████████████████████████████████████████████████████████████████████████| 500/500 [00:00<00:00, 3433.01it/s]\n"
     ]
    },
    {
     "name": "stdout",
     "output_type": "stream",
     "text": [
      "Error:  2.1415960557418634 COD:  53.743395554218495\n",
      "status termination =  False\n",
      "Generation:  7\n",
      "current_best_individual:  {'COD': 53.743395554218495, 'error': 2.1415960557418634, 'coeff': [0.4539642415011904, -1.7700284246148903, 1.5227736273477133, -0.7176971195013012]}\n"
     ]
    },
    {
     "name": "stderr",
     "output_type": "stream",
     "text": [
      "100%|██████████████████████████████████████████████████████████████████████████████| 500/500 [00:00<00:00, 3505.89it/s]\n"
     ]
    },
    {
     "name": "stdout",
     "output_type": "stream",
     "text": [
      "Error:  1.5084483821402745 COD:  67.41883234587348\n",
      "status termination =  False\n",
      "Generation:  8\n",
      "current_best_individual:  {'COD': 67.41883234587348, 'error': 1.5084483821402745, 'coeff': [0.7201048263911747, -2.670482500062059, 1.6642185625428692, -0.7176971195013012]}\n"
     ]
    },
    {
     "name": "stderr",
     "output_type": "stream",
     "text": [
      "100%|██████████████████████████████████████████████████████████████████████████████| 500/500 [00:00<00:00, 3580.97it/s]\n"
     ]
    },
    {
     "name": "stdout",
     "output_type": "stream",
     "text": [
      "Error:  1.4372999415695096 COD:  68.95557652486666\n",
      "status termination =  False\n",
      "Generation:  9\n",
      "current_best_individual:  {'COD': 68.95557652486666, 'error': 1.4372999415695096, 'coeff': [0.7201048263911747, -2.786955323894451, 1.7316483032234604, -0.7176971195013012]}\n"
     ]
    },
    {
     "name": "stderr",
     "output_type": "stream",
     "text": [
      "100%|██████████████████████████████████████████████████████████████████████████████| 500/500 [00:00<00:00, 3410.47it/s]\n"
     ]
    },
    {
     "name": "stdout",
     "output_type": "stream",
     "text": [
      "Error:  1.2743850865238697 COD:  72.47439511251928\n",
      "status termination =  False\n",
      "Generation:  10\n",
      "current_best_individual:  {'COD': 72.47439511251928, 'error': 1.2743850865238697, 'coeff': [0.7201048263911747, -2.670482500062059, 2.0537729985207753, -1.1995460424831812]}\n"
     ]
    },
    {
     "name": "stderr",
     "output_type": "stream",
     "text": [
      "100%|██████████████████████████████████████████████████████████████████████████████| 500/500 [00:00<00:00, 3255.46it/s]\n"
     ]
    },
    {
     "name": "stdout",
     "output_type": "stream",
     "text": [
      "Error:  1.11566009422365 COD:  75.9027163240783\n",
      "status termination =  False\n",
      "Generation:  11\n",
      "current_best_individual:  {'COD': 75.9027163240783, 'error': 1.11566009422365, 'coeff': [1.275554225597824, -3.587689939559045, 1.6642185625428692, -0.6677171864718257]}\n"
     ]
    },
    {
     "name": "stderr",
     "output_type": "stream",
     "text": [
      "100%|██████████████████████████████████████████████████████████████████████████████| 500/500 [00:00<00:00, 3364.70it/s]\n"
     ]
    },
    {
     "name": "stdout",
     "output_type": "stream",
     "text": [
      "Error:  0.870010927041668 COD:  81.20852379804491\n",
      "status termination =  False\n",
      "Generation:  12\n",
      "current_best_individual:  {'COD': 81.20852379804491, 'error': 0.870010927041668, 'coeff': [1.5035004937596836, -3.323665088220043, 1.9741133319561834, -1.1995460424831812]}\n"
     ]
    },
    {
     "name": "stderr",
     "output_type": "stream",
     "text": [
      "100%|██████████████████████████████████████████████████████████████████████████████| 500/500 [00:00<00:00, 3457.50it/s]\n"
     ]
    },
    {
     "name": "stdout",
     "output_type": "stream",
     "text": [
      "Error:  0.6335591061756568 COD:  86.3156766240689\n",
      "status termination =  False\n",
      "Generation:  13\n",
      "current_best_individual:  {'COD': 86.3156766240689, 'error': 0.6335591061756568, 'coeff': [1.428002171041816, -3.5809478078536223, 2.485427280747646, -1.1995460424831812]}\n"
     ]
    },
    {
     "name": "stderr",
     "output_type": "stream",
     "text": [
      "100%|██████████████████████████████████████████████████████████████████████████████| 500/500 [00:00<00:00, 3320.12it/s]\n"
     ]
    },
    {
     "name": "stdout",
     "output_type": "stream",
     "text": [
      "Error:  0.5758218673221024 COD:  87.56275055861408\n",
      "status termination =  False\n",
      "Generation:  14\n",
      "current_best_individual:  {'COD': 87.56275055861408, 'error': 0.5758218673221024, 'coeff': [1.275554225597824, -3.587689939559045, 2.882742776316264, -1.1995460424831812]}\n"
     ]
    },
    {
     "name": "stderr",
     "output_type": "stream",
     "text": [
      "100%|██████████████████████████████████████████████████████████████████████████████| 500/500 [00:00<00:00, 3342.26it/s]\n"
     ]
    },
    {
     "name": "stdout",
     "output_type": "stream",
     "text": [
      "Error:  0.44079350321540217 COD:  90.47924529659163\n",
      "status termination =  False\n",
      "Generation:  15\n",
      "current_best_individual:  {'COD': 90.47924529659163, 'error': 0.44079350321540217, 'coeff': [1.428002171041816, -3.9685971662644834, 2.882742776316264, -1.1995460424831812]}\n"
     ]
    },
    {
     "name": "stderr",
     "output_type": "stream",
     "text": [
      "100%|██████████████████████████████████████████████████████████████████████████████| 500/500 [00:00<00:00, 3323.81it/s]\n"
     ]
    },
    {
     "name": "stdout",
     "output_type": "stream",
     "text": [
      "Error:  0.33990357192347415 COD:  92.6583797004959\n",
      "status termination =  False\n",
      "Generation:  16\n",
      "current_best_individual:  {'COD': 92.6583797004959, 'error': 0.33990357192347415, 'coeff': [2.2189247784866573, -4.292388456622954, 2.882742776316264, -1.1995460424831812]}\n"
     ]
    },
    {
     "name": "stderr",
     "output_type": "stream",
     "text": [
      "100%|██████████████████████████████████████████████████████████████████████████████| 500/500 [00:00<00:00, 3481.52it/s]\n"
     ]
    },
    {
     "name": "stdout",
     "output_type": "stream",
     "text": [
      "Error:  0.24269658760197846 COD:  94.75796566633254\n",
      "status termination =  False\n",
      "Generation:  17\n",
      "current_best_individual:  {'COD': 94.75796566633254, 'error': 0.24269658760197846, 'coeff': [2.2189247784866573, -4.292388456622954, 2.882742776316264, -1.6611701527675886]}\n"
     ]
    },
    {
     "name": "stderr",
     "output_type": "stream",
     "text": [
      "100%|██████████████████████████████████████████████████████████████████████████████| 500/500 [00:00<00:00, 3555.68it/s]\n"
     ]
    },
    {
     "name": "stdout",
     "output_type": "stream",
     "text": [
      "Error:  0.17854842000199198 COD:  96.14351006283003\n",
      "status termination =  False\n",
      "Generation:  18\n",
      "current_best_individual:  {'COD': 96.14351006283003, 'error': 0.17854842000199198, 'coeff': [2.2189247784866573, -4.537809469206622, 3.16600501758069, -1.4764611738803037]}\n"
     ]
    },
    {
     "name": "stderr",
     "output_type": "stream",
     "text": [
      "100%|██████████████████████████████████████████████████████████████████████████████| 500/500 [00:00<00:00, 3477.94it/s]\n"
     ]
    },
    {
     "name": "stdout",
     "output_type": "stream",
     "text": [
      "Error:  0.17153029313310333 COD:  96.29509547393224\n",
      "status termination =  False\n",
      "Generation:  19\n",
      "current_best_individual:  {'COD': 96.29509547393224, 'error': 0.17153029313310333, 'coeff': [2.2189247784866573, -4.537809469206622, 3.16600501758069, -1.5149345504800058]}\n"
     ]
    },
    {
     "name": "stderr",
     "output_type": "stream",
     "text": [
      "100%|██████████████████████████████████████████████████████████████████████████████| 500/500 [00:00<00:00, 3320.36it/s]\n"
     ]
    },
    {
     "name": "stdout",
     "output_type": "stream",
     "text": [
      "Error:  0.14348582366476792 COD:  96.90083152187205\n",
      "status termination =  False\n",
      "Generation:  20\n",
      "current_best_individual:  {'COD': 96.90083152187205, 'error': 0.14348582366476792, 'coeff': [2.2189247784866573, -4.719099864919626, 3.16600501758069, -1.6611701527675886]}\n"
     ]
    },
    {
     "name": "stderr",
     "output_type": "stream",
     "text": [
      "100%|██████████████████████████████████████████████████████████████████████████████| 500/500 [00:00<00:00, 3342.27it/s]\n"
     ]
    },
    {
     "name": "stdout",
     "output_type": "stream",
     "text": [
      "Error:  0.12071611973319837 COD:  97.39263724092271\n",
      "status termination =  False\n",
      "Generation:  21\n",
      "current_best_individual:  {'COD': 97.39263724092271, 'error': 0.12071611973319837, 'coeff': [2.2189247784866573, -4.719099864919626, 3.4018735848249637, -1.5149345504800058]}\n"
     ]
    },
    {
     "name": "stderr",
     "output_type": "stream",
     "text": [
      "100%|██████████████████████████████████████████████████████████████████████████████| 500/500 [00:00<00:00, 3410.47it/s]\n"
     ]
    },
    {
     "name": "stdout",
     "output_type": "stream",
     "text": [
      "Error:  0.0907599508132242 COD:  98.03966432743938\n",
      "status termination =  False\n",
      "Generation:  22\n",
      "current_best_individual:  {'COD': 98.03966432743938, 'error': 0.0907599508132242, 'coeff': [2.2189247784866573, -4.719099864919626, 3.5665656371335, -1.6611701527675886]}\n"
     ]
    },
    {
     "name": "stderr",
     "output_type": "stream",
     "text": [
      "100%|██████████████████████████████████████████████████████████████████████████████| 500/500 [00:00<00:00, 3170.57it/s]\n"
     ]
    },
    {
     "name": "stdout",
     "output_type": "stream",
     "text": [
      "Error:  0.0907599508132242 COD:  98.03966432743938\n",
      "status termination =  False\n",
      "Generation:  23\n",
      "current_best_individual:  {'COD': 98.03966432743938, 'error': 0.0907599508132242, 'coeff': [2.2189247784866573, -4.719099864919626, 3.5665656371335, -1.6611701527675886]}\n"
     ]
    },
    {
     "name": "stderr",
     "output_type": "stream",
     "text": [
      "100%|██████████████████████████████████████████████████████████████████████████████| 500/500 [00:00<00:00, 3298.29it/s]\n"
     ]
    },
    {
     "name": "stdout",
     "output_type": "stream",
     "text": [
      "Error:  0.07874836593232215 COD:  98.29910407057541\n",
      "status termination =  False\n",
      "Generation:  24\n",
      "current_best_individual:  {'COD': 98.29910407057541, 'error': 0.07874836593232215, 'coeff': [2.2189247784866573, -4.782871027279995, 3.5859821737500632, -1.6611701527675886]}\n"
     ]
    },
    {
     "name": "stderr",
     "output_type": "stream",
     "text": [
      "100%|██████████████████████████████████████████████████████████████████████████████| 500/500 [00:00<00:00, 3433.80it/s]\n"
     ]
    },
    {
     "name": "stdout",
     "output_type": "stream",
     "text": [
      "Error:  0.05893972931565104 COD:  98.72695332166595\n",
      "status termination =  False\n",
      "Generation:  25\n",
      "current_best_individual:  {'COD': 98.72695332166595, 'error': 0.05893972931565104, 'coeff': [2.2189247784866573, -5.040332724976551, 3.5859821737500632, -1.6611701527675886]}\n"
     ]
    },
    {
     "name": "stderr",
     "output_type": "stream",
     "text": [
      "100%|██████████████████████████████████████████████████████████████████████████████| 500/500 [00:00<00:00, 3290.97it/s]"
     ]
    },
    {
     "name": "stdout",
     "output_type": "stream",
     "text": [
      "Error:  0.055678628671788556 COD:  98.79739024749824\n",
      "status termination =  True\n",
      "generation =  25\n",
      "{'COD': 98.79739024749824, 'error': 0.055678628671788556, 'coeff': [2.3746791559348503, -4.850718946629284, 3.5859821737500632, -2.114135310045026]}\n"
     ]
    },
    {
     "name": "stderr",
     "output_type": "stream",
     "text": [
      "\n"
     ]
    }
   ],
   "source": [
    "individual_size = len(inputs[0])\n",
    "population_size = 500\n",
    "selection_size  = floor(0.1*population_size)\n",
    "max_generations = 50\n",
    "probability_of_individual_mutating = 0.1\n",
    "probability_of_gene_mutating = 0.25\n",
    "best_possible = multiple_linear_regression(inputs, outputs)\n",
    "best_individuals_stash = [create_individual(individual_size)]\n",
    "initial_population = create_population(individual_size, 1000)\n",
    "current_population = initial_population\n",
    "termination = False\n",
    "generation_count = 0\n",
    "while termination is False:\n",
    "    current_best_individual = get_fitness(best_individuals_stash[-1], inputs)\n",
    "    print('Generation: ', generation_count)\n",
    "    print('current_best_individual: ', current_best_individual)\n",
    "    \n",
    "    best_individuals   = evaluate_population(current_population)\n",
    "    #print('best_individuals: ', best_individuals)\n",
    "    \n",
    "    current_population = get_new_generation(best_individuals)\n",
    "    #print('current_population: ', current_population)\n",
    "    termination        = check_termination_condition(current_best_individual)\n",
    "   \n",
    "      #  generation_count  += 1\n",
    "    print (\"status termination = \",termination)\n",
    "    if termination :\n",
    "        generation_count=generation_count\n",
    "    else:\n",
    "        generation_count  += 1\n",
    "    \n",
    "    \n",
    "else:\n",
    "    print(\"generation = \",generation_count)\n",
    "    print(get_fitness(best_individuals_stash[-1], inputs))"
   ]
  },
  {
   "cell_type": "code",
   "execution_count": 11,
   "id": "d2f1ecc7",
   "metadata": {},
   "outputs": [
    {
     "data": {
      "text/plain": [
       "{'COD': 100.0,\n",
       " 'coeff': array([ 2.4, -5.3,  4.2, -2.1]),\n",
       " 'error': 1.0419126154367418e-29}"
      ]
     },
     "execution_count": 11,
     "metadata": {},
     "output_type": "execute_result"
    }
   ],
   "source": [
    "best_possible"
   ]
  },
  {
   "cell_type": "code",
   "execution_count": null,
   "id": "7f3a917d",
   "metadata": {},
   "outputs": [],
   "source": []
  },
  {
   "cell_type": "code",
   "execution_count": null,
   "id": "11cc905d",
   "metadata": {},
   "outputs": [],
   "source": []
  },
  {
   "cell_type": "code",
   "execution_count": null,
   "id": "2118eff4",
   "metadata": {},
   "outputs": [],
   "source": []
  },
  {
   "cell_type": "code",
   "execution_count": null,
   "id": "b4b642e3",
   "metadata": {},
   "outputs": [],
   "source": []
  },
  {
   "cell_type": "code",
   "execution_count": null,
   "id": "35924ef9",
   "metadata": {},
   "outputs": [],
   "source": []
  },
  {
   "cell_type": "code",
   "execution_count": null,
   "id": "217fcc73",
   "metadata": {},
   "outputs": [],
   "source": []
  }
 ],
 "metadata": {
  "kernelspec": {
   "display_name": "Python 3 (ipykernel)",
   "language": "python",
   "name": "python3"
  },
  "language_info": {
   "codemirror_mode": {
    "name": "ipython",
    "version": 3
   },
   "file_extension": ".py",
   "mimetype": "text/x-python",
   "name": "python",
   "nbconvert_exporter": "python",
   "pygments_lexer": "ipython3",
   "version": "3.9.16"
  }
 },
 "nbformat": 4,
 "nbformat_minor": 5
}
