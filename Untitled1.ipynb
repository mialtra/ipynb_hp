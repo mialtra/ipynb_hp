{
 "cells": [
  {
   "cell_type": "code",
   "execution_count": 2,
   "id": "12a7762f",
   "metadata": {},
   "outputs": [],
   "source": [
    "# import library yang dibutuhkan\n",
    "import numpy as np\n",
    "import pandas as pd\n",
    "import tensorflow as tf\n",
    "from sklearn.preprocessing import MinMaxScaler\n",
    "\n",
    "# definisikan fungsi untuk membuat sekuens data\n",
    "def create_sequences(X, y, time_steps=1):\n",
    "    Xs, ys = [], []\n",
    "    for i in range(len(X) - time_steps):\n",
    "        Xs.append(X.iloc[i:(i + time_steps)].values)\n",
    "        ys.append(y.iloc[i + time_steps])\n",
    "    return np.array(Xs), np.array(ys)\n",
    "\n",
    "# definisikan fungsi bi-LSTM untuk prediksi saham\n",
    "def predict_stock_price(df):\n",
    "    # normalisasi data\n",
    "    scaler = MinMaxScaler()\n",
    "    df_scaled = scaler.fit_transform(df)\n",
    "\n",
    "    # definisikan waktu pengamatan\n",
    "    TIME_STEPS = 30\n",
    "\n",
    "    # buat sekuens data\n",
    "    X, y = create_sequences(pd.DataFrame(df_scaled), pd.DataFrame(df_scaled)[:, 0], TIME_STEPS)\n",
    "\n",
    "    # definisikan model bi-LSTM\n",
    "    model = tf.keras.Sequential([\n",
    "        tf.keras.layers.Bidirectional(tf.keras.layers.LSTM(units=64, return_sequences=True, input_shape=(X.shape[1], X.shape[2]))),\n",
    "        tf.keras.layers.Dropout(0.2),\n",
    "        tf.keras.layers.Bidirectional(tf.keras.layers.LSTM(units=32, return_sequences=True)),\n",
    "        tf.keras.layers.Dropout(0.2),\n",
    "        tf.keras.layers.Bidirectional(tf.keras.layers.LSTM(units=16)),\n",
    "        tf.keras.layers.Dropout(0.2),\n",
    "        tf.keras.layers.Dense(1)\n",
    "    ])\n",
    "\n",
    "    # latih model\n",
    "    model.compile(loss='mse', optimizer='adam')\n",
    "    model.fit(X, y, epochs=50, batch_size=32, verbose=1)\n",
    "\n",
    "    # membuat prediksi untuk 1 langkah ke depan\n",
    "    y_pred = model.predict(np.array([X[-1]]))\n",
    "\n",
    "    # balikkan normalisasi\n",
    "    y_pred_unscaled = scaler.inverse_transform(y_pred)[0][0]\n",
    "\n",
    "    return y_pred_unscaled\n"
   ]
  },
  {
   "cell_type": "code",
   "execution_count": 4,
   "id": "ca04e667",
   "metadata": {},
   "outputs": [
    {
     "name": "stdout",
     "output_type": "stream",
     "text": [
      "mulai  2022-01-22 end  2023-02-26\n",
      "[*********************100%***********************]  1 of 1 completed\n"
     ]
    },
    {
     "ename": "ValueError",
     "evalue": "Expected 2D array, got 1D array instead:\narray=[7100. 6800. 7125. 7200. 7500. 7325. 7375. 7300. 7325. 7375. 7500. 7575.\n 7675. 7700. 7700. 7925. 7950. 7900. 7975. 7900. 7750. 7925. 7825. 8000.\n 7925. 7775. 7900. 7725. 7600. 7775. 7775. 7950. 8100. 8075. 8350. 8225.\n 8300. 8075. 8025. 8075. 8225. 8225. 8500. 8375. 8400. 8250. 8200. 8425.\n 8375. 8150. 8300. 8425. 8400. 8425. 8450. 8400. 8425. 8400. 8975. 9375.\n 9350. 9500. 9600. 9450. 9225. 8825. 8900. 8775. 8200. 8250. 8450. 8750.\n 8675. 8775. 8850. 9075. 8925. 9200. 9200. 9175. 8850. 8950. 8900. 8900.\n 9000. 8675. 8300. 8250. 8275. 8275. 8250. 8175. 8125. 8450. 8150. 8150.\n 8150. 8050. 8075. 8025. 7850. 7850. 7650. 7750. 7650. 7600. 7600. 7500.\n 7450. 7225. 7275. 7275. 7325. 7300. 7675. 7725. 7700. 7600. 7675. 7775.\n 7825. 7850. 7950. 8075. 8125. 8000. 8250. 8250. 8450. 8475. 8525. 8525.\n 8550. 8575. 8650. 8500. 8300. 8300. 8300. 8275. 8300. 8200. 8425. 8525.\n 8525. 8700. 8850. 8750. 8575. 8775. 8800. 8800. 8975. 8900. 9175. 8950.\n 8975. 8975. 8975. 9000. 9000. 9000. 9000. 9000. 8975. 8975. 8900. 8850.\n 8850. 8900. 8775. 8750. 8700. 8650. 8750. 8425. 8575. 8675. 8775. 9000.\n 9000. 9350. 9425. 9225. 9350. 9325. 9400. 9400. 9250. 9300. 9275. 9275.\n 9250. 9300. 9275. 9300. 9100. 9125. 9100. 9275. 9200. 9175. 9250. 9250.\n 9275. 9300. 9275. 9375. 9900. 9700. 9750. 9750. 9550. 9500. 9500. 9550.\n 9525. 9650. 9525. 9475. 9800. 9425. 9450. 9350. 9425. 9325. 9325. 9300.\n 9225. 9225. 9225. 9225. 9275. 9175. 9000. 8900. 9000. 8725. 8500. 8600.\n 8675. 8775. 8925. 8875. 8950. 9025. 9050. 9075. 9475. 9550. 9300. 9150.\n 9125. 9100. 9300. 9350. 9375. 9475. 9550. 9525. 9500. 9450. 9425. 9350.\n 9275. 9150. 9050. 8850. 8950. 8900.].\nReshape your data either using array.reshape(-1, 1) if your data has a single feature or array.reshape(1, -1) if it contains a single sample.",
     "output_type": "error",
     "traceback": [
      "\u001b[1;31m---------------------------------------------------------------------------\u001b[0m",
      "\u001b[1;31mValueError\u001b[0m                                Traceback (most recent call last)",
      "\u001b[1;32m~\\AppData\\Local\\Temp\\ipykernel_22432\\108067234.py\u001b[0m in \u001b[0;36m<module>\u001b[1;34m\u001b[0m\n\u001b[0;32m     14\u001b[0m \u001b[0mdata\u001b[0m \u001b[1;33m=\u001b[0m \u001b[0myf\u001b[0m\u001b[1;33m.\u001b[0m\u001b[0mdownload\u001b[0m\u001b[1;33m(\u001b[0m\u001b[0mKODE\u001b[0m\u001b[1;33m,\u001b[0m \u001b[0mstart\u001b[0m\u001b[1;33m=\u001b[0m\u001b[0mmulai\u001b[0m\u001b[1;33m,\u001b[0m \u001b[0mend\u001b[0m \u001b[1;33m=\u001b[0m \u001b[0mtoday_date\u001b[0m\u001b[1;33m)\u001b[0m\u001b[1;33m\u001b[0m\u001b[1;33m\u001b[0m\u001b[0m\n\u001b[0;32m     15\u001b[0m \u001b[0mdf\u001b[0m \u001b[1;33m=\u001b[0m \u001b[0mdata\u001b[0m\u001b[1;33m[\u001b[0m\u001b[1;34m'Close'\u001b[0m\u001b[1;33m]\u001b[0m\u001b[1;33m\u001b[0m\u001b[1;33m\u001b[0m\u001b[0m\n\u001b[1;32m---> 16\u001b[1;33m \u001b[0mprediction\u001b[0m \u001b[1;33m=\u001b[0m \u001b[0mpredict_stock_price\u001b[0m\u001b[1;33m(\u001b[0m\u001b[0mdf\u001b[0m\u001b[1;33m)\u001b[0m\u001b[1;33m\u001b[0m\u001b[1;33m\u001b[0m\u001b[0m\n\u001b[0m\u001b[0;32m     17\u001b[0m \u001b[1;33m\u001b[0m\u001b[0m\n\u001b[0;32m     18\u001b[0m \u001b[1;31m# menampilkan hasil prediksi\u001b[0m\u001b[1;33m\u001b[0m\u001b[1;33m\u001b[0m\u001b[0m\n",
      "\u001b[1;32m~\\AppData\\Local\\Temp\\ipykernel_22432\\2999121983.py\u001b[0m in \u001b[0;36mpredict_stock_price\u001b[1;34m(df)\u001b[0m\n\u001b[0;32m     17\u001b[0m     \u001b[1;31m# normalisasi data\u001b[0m\u001b[1;33m\u001b[0m\u001b[1;33m\u001b[0m\u001b[0m\n\u001b[0;32m     18\u001b[0m     \u001b[0mscaler\u001b[0m \u001b[1;33m=\u001b[0m \u001b[0mMinMaxScaler\u001b[0m\u001b[1;33m(\u001b[0m\u001b[1;33m)\u001b[0m\u001b[1;33m\u001b[0m\u001b[1;33m\u001b[0m\u001b[0m\n\u001b[1;32m---> 19\u001b[1;33m     \u001b[0mdf_scaled\u001b[0m \u001b[1;33m=\u001b[0m \u001b[0mscaler\u001b[0m\u001b[1;33m.\u001b[0m\u001b[0mfit_transform\u001b[0m\u001b[1;33m(\u001b[0m\u001b[0mdf\u001b[0m\u001b[1;33m)\u001b[0m\u001b[1;33m\u001b[0m\u001b[1;33m\u001b[0m\u001b[0m\n\u001b[0m\u001b[0;32m     20\u001b[0m \u001b[1;33m\u001b[0m\u001b[0m\n\u001b[0;32m     21\u001b[0m     \u001b[1;31m# definisikan waktu pengamatan\u001b[0m\u001b[1;33m\u001b[0m\u001b[1;33m\u001b[0m\u001b[0m\n",
      "\u001b[1;32mD:\\programs\\anaconda3\\lib\\site-packages\\sklearn\\base.py\u001b[0m in \u001b[0;36mfit_transform\u001b[1;34m(self, X, y, **fit_params)\u001b[0m\n\u001b[0;32m    850\u001b[0m         \u001b[1;32mif\u001b[0m \u001b[0my\u001b[0m \u001b[1;32mis\u001b[0m \u001b[1;32mNone\u001b[0m\u001b[1;33m:\u001b[0m\u001b[1;33m\u001b[0m\u001b[1;33m\u001b[0m\u001b[0m\n\u001b[0;32m    851\u001b[0m             \u001b[1;31m# fit method of arity 1 (unsupervised transformation)\u001b[0m\u001b[1;33m\u001b[0m\u001b[1;33m\u001b[0m\u001b[0m\n\u001b[1;32m--> 852\u001b[1;33m             \u001b[1;32mreturn\u001b[0m \u001b[0mself\u001b[0m\u001b[1;33m.\u001b[0m\u001b[0mfit\u001b[0m\u001b[1;33m(\u001b[0m\u001b[0mX\u001b[0m\u001b[1;33m,\u001b[0m \u001b[1;33m**\u001b[0m\u001b[0mfit_params\u001b[0m\u001b[1;33m)\u001b[0m\u001b[1;33m.\u001b[0m\u001b[0mtransform\u001b[0m\u001b[1;33m(\u001b[0m\u001b[0mX\u001b[0m\u001b[1;33m)\u001b[0m\u001b[1;33m\u001b[0m\u001b[1;33m\u001b[0m\u001b[0m\n\u001b[0m\u001b[0;32m    853\u001b[0m         \u001b[1;32melse\u001b[0m\u001b[1;33m:\u001b[0m\u001b[1;33m\u001b[0m\u001b[1;33m\u001b[0m\u001b[0m\n\u001b[0;32m    854\u001b[0m             \u001b[1;31m# fit method of arity 2 (supervised transformation)\u001b[0m\u001b[1;33m\u001b[0m\u001b[1;33m\u001b[0m\u001b[0m\n",
      "\u001b[1;32mD:\\programs\\anaconda3\\lib\\site-packages\\sklearn\\preprocessing\\_data.py\u001b[0m in \u001b[0;36mfit\u001b[1;34m(self, X, y)\u001b[0m\n\u001b[0;32m    414\u001b[0m         \u001b[1;31m# Reset internal state before fitting\u001b[0m\u001b[1;33m\u001b[0m\u001b[1;33m\u001b[0m\u001b[0m\n\u001b[0;32m    415\u001b[0m         \u001b[0mself\u001b[0m\u001b[1;33m.\u001b[0m\u001b[0m_reset\u001b[0m\u001b[1;33m(\u001b[0m\u001b[1;33m)\u001b[0m\u001b[1;33m\u001b[0m\u001b[1;33m\u001b[0m\u001b[0m\n\u001b[1;32m--> 416\u001b[1;33m         \u001b[1;32mreturn\u001b[0m \u001b[0mself\u001b[0m\u001b[1;33m.\u001b[0m\u001b[0mpartial_fit\u001b[0m\u001b[1;33m(\u001b[0m\u001b[0mX\u001b[0m\u001b[1;33m,\u001b[0m \u001b[0my\u001b[0m\u001b[1;33m)\u001b[0m\u001b[1;33m\u001b[0m\u001b[1;33m\u001b[0m\u001b[0m\n\u001b[0m\u001b[0;32m    417\u001b[0m \u001b[1;33m\u001b[0m\u001b[0m\n\u001b[0;32m    418\u001b[0m     \u001b[1;32mdef\u001b[0m \u001b[0mpartial_fit\u001b[0m\u001b[1;33m(\u001b[0m\u001b[0mself\u001b[0m\u001b[1;33m,\u001b[0m \u001b[0mX\u001b[0m\u001b[1;33m,\u001b[0m \u001b[0my\u001b[0m\u001b[1;33m=\u001b[0m\u001b[1;32mNone\u001b[0m\u001b[1;33m)\u001b[0m\u001b[1;33m:\u001b[0m\u001b[1;33m\u001b[0m\u001b[1;33m\u001b[0m\u001b[0m\n",
      "\u001b[1;32mD:\\programs\\anaconda3\\lib\\site-packages\\sklearn\\preprocessing\\_data.py\u001b[0m in \u001b[0;36mpartial_fit\u001b[1;34m(self, X, y)\u001b[0m\n\u001b[0;32m    451\u001b[0m \u001b[1;33m\u001b[0m\u001b[0m\n\u001b[0;32m    452\u001b[0m         \u001b[0mfirst_pass\u001b[0m \u001b[1;33m=\u001b[0m \u001b[1;32mnot\u001b[0m \u001b[0mhasattr\u001b[0m\u001b[1;33m(\u001b[0m\u001b[0mself\u001b[0m\u001b[1;33m,\u001b[0m \u001b[1;34m\"n_samples_seen_\"\u001b[0m\u001b[1;33m)\u001b[0m\u001b[1;33m\u001b[0m\u001b[1;33m\u001b[0m\u001b[0m\n\u001b[1;32m--> 453\u001b[1;33m         X = self._validate_data(\n\u001b[0m\u001b[0;32m    454\u001b[0m             \u001b[0mX\u001b[0m\u001b[1;33m,\u001b[0m\u001b[1;33m\u001b[0m\u001b[1;33m\u001b[0m\u001b[0m\n\u001b[0;32m    455\u001b[0m             \u001b[0mreset\u001b[0m\u001b[1;33m=\u001b[0m\u001b[0mfirst_pass\u001b[0m\u001b[1;33m,\u001b[0m\u001b[1;33m\u001b[0m\u001b[1;33m\u001b[0m\u001b[0m\n",
      "\u001b[1;32mD:\\programs\\anaconda3\\lib\\site-packages\\sklearn\\base.py\u001b[0m in \u001b[0;36m_validate_data\u001b[1;34m(self, X, y, reset, validate_separately, **check_params)\u001b[0m\n\u001b[0;32m    564\u001b[0m             \u001b[1;32mraise\u001b[0m \u001b[0mValueError\u001b[0m\u001b[1;33m(\u001b[0m\u001b[1;34m\"Validation should be done on X, y or both.\"\u001b[0m\u001b[1;33m)\u001b[0m\u001b[1;33m\u001b[0m\u001b[1;33m\u001b[0m\u001b[0m\n\u001b[0;32m    565\u001b[0m         \u001b[1;32melif\u001b[0m \u001b[1;32mnot\u001b[0m \u001b[0mno_val_X\u001b[0m \u001b[1;32mand\u001b[0m \u001b[0mno_val_y\u001b[0m\u001b[1;33m:\u001b[0m\u001b[1;33m\u001b[0m\u001b[1;33m\u001b[0m\u001b[0m\n\u001b[1;32m--> 566\u001b[1;33m             \u001b[0mX\u001b[0m \u001b[1;33m=\u001b[0m \u001b[0mcheck_array\u001b[0m\u001b[1;33m(\u001b[0m\u001b[0mX\u001b[0m\u001b[1;33m,\u001b[0m \u001b[1;33m**\u001b[0m\u001b[0mcheck_params\u001b[0m\u001b[1;33m)\u001b[0m\u001b[1;33m\u001b[0m\u001b[1;33m\u001b[0m\u001b[0m\n\u001b[0m\u001b[0;32m    567\u001b[0m             \u001b[0mout\u001b[0m \u001b[1;33m=\u001b[0m \u001b[0mX\u001b[0m\u001b[1;33m\u001b[0m\u001b[1;33m\u001b[0m\u001b[0m\n\u001b[0;32m    568\u001b[0m         \u001b[1;32melif\u001b[0m \u001b[0mno_val_X\u001b[0m \u001b[1;32mand\u001b[0m \u001b[1;32mnot\u001b[0m \u001b[0mno_val_y\u001b[0m\u001b[1;33m:\u001b[0m\u001b[1;33m\u001b[0m\u001b[1;33m\u001b[0m\u001b[0m\n",
      "\u001b[1;32mD:\\programs\\anaconda3\\lib\\site-packages\\sklearn\\utils\\validation.py\u001b[0m in \u001b[0;36mcheck_array\u001b[1;34m(array, accept_sparse, accept_large_sparse, dtype, order, copy, force_all_finite, ensure_2d, allow_nd, ensure_min_samples, ensure_min_features, estimator)\u001b[0m\n\u001b[0;32m    767\u001b[0m             \u001b[1;31m# If input is 1D raise error\u001b[0m\u001b[1;33m\u001b[0m\u001b[1;33m\u001b[0m\u001b[0m\n\u001b[0;32m    768\u001b[0m             \u001b[1;32mif\u001b[0m \u001b[0marray\u001b[0m\u001b[1;33m.\u001b[0m\u001b[0mndim\u001b[0m \u001b[1;33m==\u001b[0m \u001b[1;36m1\u001b[0m\u001b[1;33m:\u001b[0m\u001b[1;33m\u001b[0m\u001b[1;33m\u001b[0m\u001b[0m\n\u001b[1;32m--> 769\u001b[1;33m                 raise ValueError(\n\u001b[0m\u001b[0;32m    770\u001b[0m                     \u001b[1;34m\"Expected 2D array, got 1D array instead:\\narray={}.\\n\"\u001b[0m\u001b[1;33m\u001b[0m\u001b[1;33m\u001b[0m\u001b[0m\n\u001b[0;32m    771\u001b[0m                     \u001b[1;34m\"Reshape your data either using array.reshape(-1, 1) if \"\u001b[0m\u001b[1;33m\u001b[0m\u001b[1;33m\u001b[0m\u001b[0m\n",
      "\u001b[1;31mValueError\u001b[0m: Expected 2D array, got 1D array instead:\narray=[7100. 6800. 7125. 7200. 7500. 7325. 7375. 7300. 7325. 7375. 7500. 7575.\n 7675. 7700. 7700. 7925. 7950. 7900. 7975. 7900. 7750. 7925. 7825. 8000.\n 7925. 7775. 7900. 7725. 7600. 7775. 7775. 7950. 8100. 8075. 8350. 8225.\n 8300. 8075. 8025. 8075. 8225. 8225. 8500. 8375. 8400. 8250. 8200. 8425.\n 8375. 8150. 8300. 8425. 8400. 8425. 8450. 8400. 8425. 8400. 8975. 9375.\n 9350. 9500. 9600. 9450. 9225. 8825. 8900. 8775. 8200. 8250. 8450. 8750.\n 8675. 8775. 8850. 9075. 8925. 9200. 9200. 9175. 8850. 8950. 8900. 8900.\n 9000. 8675. 8300. 8250. 8275. 8275. 8250. 8175. 8125. 8450. 8150. 8150.\n 8150. 8050. 8075. 8025. 7850. 7850. 7650. 7750. 7650. 7600. 7600. 7500.\n 7450. 7225. 7275. 7275. 7325. 7300. 7675. 7725. 7700. 7600. 7675. 7775.\n 7825. 7850. 7950. 8075. 8125. 8000. 8250. 8250. 8450. 8475. 8525. 8525.\n 8550. 8575. 8650. 8500. 8300. 8300. 8300. 8275. 8300. 8200. 8425. 8525.\n 8525. 8700. 8850. 8750. 8575. 8775. 8800. 8800. 8975. 8900. 9175. 8950.\n 8975. 8975. 8975. 9000. 9000. 9000. 9000. 9000. 8975. 8975. 8900. 8850.\n 8850. 8900. 8775. 8750. 8700. 8650. 8750. 8425. 8575. 8675. 8775. 9000.\n 9000. 9350. 9425. 9225. 9350. 9325. 9400. 9400. 9250. 9300. 9275. 9275.\n 9250. 9300. 9275. 9300. 9100. 9125. 9100. 9275. 9200. 9175. 9250. 9250.\n 9275. 9300. 9275. 9375. 9900. 9700. 9750. 9750. 9550. 9500. 9500. 9550.\n 9525. 9650. 9525. 9475. 9800. 9425. 9450. 9350. 9425. 9325. 9325. 9300.\n 9225. 9225. 9225. 9225. 9275. 9175. 9000. 8900. 9000. 8725. 8500. 8600.\n 8675. 8775. 8925. 8875. 8950. 9025. 9050. 9075. 9475. 9550. 9300. 9150.\n 9125. 9100. 9300. 9350. 9375. 9475. 9550. 9525. 9500. 9450. 9425. 9350.\n 9275. 9150. 9050. 8850. 8950. 8900.].\nReshape your data either using array.reshape(-1, 1) if your data has a single feature or array.reshape(1, -1) if it contains a single sample."
     ]
    }
   ],
   "source": [
    "# memanggil fungsi predict_stock_price\n",
    "#df = pd.read_csv('data_saham.csv')\n",
    "import yfinance as yf\n",
    "import math\n",
    "from datetime import date, timedelta\n",
    "\n",
    "# !pip install yfinance\n",
    "KODE = 'BBNI.JK'\n",
    "today_date = date.today()\n",
    "td = timedelta(400)\n",
    "mulai = today_date - td\n",
    "print ('mulai ',mulai , 'end ',today_date)\n",
    "\n",
    "data = yf.download(KODE, start=mulai, end = today_date)\n",
    "df = data['Close']\n",
    "prediction = predict_stock_price(df)\n",
    "\n",
    "# menampilkan hasil prediksi\n",
    "print(f'Prediksi harga saham untuk 1 langkah ke depan: {prediction}')\n"
   ]
  },
  {
   "cell_type": "code",
   "execution_count": null,
   "id": "ae70abd3",
   "metadata": {},
   "outputs": [],
   "source": []
  },
  {
   "cell_type": "code",
   "execution_count": null,
   "id": "87b4f013",
   "metadata": {},
   "outputs": [],
   "source": []
  },
  {
   "cell_type": "code",
   "execution_count": null,
   "id": "01959c4f",
   "metadata": {},
   "outputs": [],
   "source": []
  }
 ],
 "metadata": {
  "kernelspec": {
   "display_name": "Python 3 (ipykernel)",
   "language": "python",
   "name": "python3"
  },
  "language_info": {
   "codemirror_mode": {
    "name": "ipython",
    "version": 3
   },
   "file_extension": ".py",
   "mimetype": "text/x-python",
   "name": "python",
   "nbconvert_exporter": "python",
   "pygments_lexer": "ipython3",
   "version": "3.9.16"
  }
 },
 "nbformat": 4,
 "nbformat_minor": 5
}
